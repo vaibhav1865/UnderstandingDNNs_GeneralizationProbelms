{
  "cells": [
    {
      "cell_type": "markdown",
      "metadata": {
        "id": "LGYlddUKxWnJ"
      },
      "source": [
        "\n",
        "### Randomization Test Experiment \n",
        "* One of the key findings of the paper is that deep neural networks easily fit random noise. To validate this, we are training a neural network on a dataset where the labels are randomly assigned and evaluate its performance on the original test set.The random label test can be performed in two ways:\n",
        "    \n",
        "    * Complete label shuffle: The labels are shuffled completely and the network is trained on the shuffled labels. The network is then evaluated on the original test set.\n",
        "    * Shuffled pixels : The pixels of all the images are permuted using a single random permutation and the network is trained on the shuffled dataset. The network is then evaluated on the original test set.\n",
        "    * Random Pixels : The pixels of all the images are replaced with random values and the network is trained on the shuffled dataset. The network is then evaluated on the original test set.\n",
        "    * Gaussian Noise : The pixels of all the images are replaced with random values drawn from a Gaussian distribution and the network is trained on the shuffled dataset. The network is then evaluated on the original test set.\n",
        "    \n",
        "\n"
      ]
    },
    {
      "cell_type": "code",
      "execution_count": 2,
      "metadata": {
        "colab": {
          "base_uri": "https://localhost:8080/"
        },
        "id": "cygB11mbxWnM",
        "outputId": "7c4f0166-37ac-4e3e-b4a7-25db40b0b3ea"
      },
      "outputs": [
        {
          "output_type": "stream",
          "name": "stdout",
          "text": [
            "Mounted at /content/drive\n"
          ]
        }
      ],
      "source": [
        "import torch\n",
        "import torch.nn as nn\n",
        "import torch.nn.functional as F\n",
        "import torch.optim as optim\n",
        "import torchvision\n",
        "import torchvision.transforms as transforms\n",
        "import matplotlib.pyplot as plt\n",
        "import numpy as np\n",
        "import time\n",
        "from torchsummary import summary\n",
        "from tqdm import tqdm\n",
        "import tensorflow\n",
        "import tensorflow as tf\n",
        "from sklearn.metrics import accuracy_score\n",
        "from google.colab import drive\n",
        "drive.mount('/content/drive')\n",
        "import pickle\n",
        "path = \"/content/drive/MyDrive/savepickle/\"\n"
      ]
    },
    {
      "cell_type": "code",
      "execution_count": 3,
      "metadata": {
        "colab": {
          "base_uri": "https://localhost:8080/"
        },
        "id": "xfTc0TGMxWnN",
        "outputId": "df8ae60c-84ca-4f16-c899-e9def76e150b"
      },
      "outputs": [
        {
          "output_type": "stream",
          "name": "stdout",
          "text": [
            "Downloading https://www.cs.toronto.edu/~kriz/cifar-10-python.tar.gz to ./cifar-10-python.tar.gz\n"
          ]
        },
        {
          "output_type": "stream",
          "name": "stderr",
          "text": [
            "100%|██████████| 170498071/170498071 [00:02<00:00, 67875334.08it/s]\n"
          ]
        },
        {
          "output_type": "stream",
          "name": "stdout",
          "text": [
            "Extracting ./cifar-10-python.tar.gz to ./\n"
          ]
        }
      ],
      "source": [
        "\n",
        "device = torch.device('cuda' if torch.cuda.is_available() else 'cpu')\n",
        "\n",
        "# Hyper-parameter\n",
        "batch_size = 64\n",
        "#  CIFAR-10 dataset\n",
        "transform = transforms.Compose([transforms.ToTensor(),transforms.CenterCrop(28),transforms.Normalize((0.5, 0.5, 0.5), (0.5, 0.5, 0.5))])\n",
        "train_dataset = torchvision.datasets.CIFAR10(root='./', train=True, download=True, transform=transform)\n",
        "test_dataset =  torchvision.datasets.CIFAR10(root='./', train=False, transform=transform)"
      ]
    },
    {
      "cell_type": "code",
      "execution_count": 4,
      "metadata": {
        "colab": {
          "base_uri": "https://localhost:8080/"
        },
        "id": "gGNsxMFCxWnO",
        "outputId": "e837b8d8-c27f-4f55-a1e4-888b2d8f982d"
      },
      "outputs": [
        {
          "output_type": "stream",
          "name": "stdout",
          "text": [
            "(50000, 32, 32, 3)\n",
            "(10000, 32, 32, 3)\n"
          ]
        }
      ],
      "source": [
        "\n",
        "# # Data loader\n",
        "# transform = transforms.Compose([transforms.ToTensor(),transforms.CenterCrop(28),transforms.Normalize((0.5, 0.5, 0.5), (0.5, 0.5, 0.5))])\n",
        "# train_dataset = torchvision.datasets.CIFAR10(root='./', train=True, download=True, transform=transform)\n",
        "# test_dataset = torchvision.datasets.CIFAR10(root='./', train=False, transform=transform)\n",
        "# train_loader = torch.utils.data.DataLoader(train_dataset,batch_size=32, shuffle=True, num_workers=2)\n",
        "# test_loader =  torch.utils.data.DataLoader(test_dataset,batch_size=32, shuffle=False, num_workers=2)\n",
        "\n",
        "\n",
        "\n",
        "# transform = transforms.Compose([transforms.ToTensor(),transforms.CenterCrop(28),transforms.Normalize((0.5, 0.5, 0.5), (0.5, 0.5, 0.5))])\n",
        "# train_dataset = torchvision.datasets.CIFAR10(root='./', train=True, download=True, transform=transform)\n",
        "# test_dataset = torchvision.datasets.CIFAR10(root='./', train=False, transform=transform)\n",
        "\n",
        "# apply tf.image.per_image_standardization on train and test dataset\n",
        "\n",
        "for i in range(len(train_dataset)):\n",
        "        train_dataset.data[i] = tf.image.per_image_standardization(train_dataset.data[i])\n",
        "for i in range(len(test_dataset)):\n",
        "        test_dataset.data[i] = tf.image.per_image_standardization(test_dataset.data[i])\n",
        "train_loader = torch.utils.data.DataLoader(train_dataset,batch_size=32, shuffle=True, num_workers=2)\n",
        "test_loader =  torch.utils.data.DataLoader(test_dataset,batch_size=32, shuffle=False, num_workers=2)\n",
        "# size of the dataset\n",
        "print(train_loader.dataset.data.shape)\n",
        "print(test_loader.dataset.data.shape)\n"
      ]
    },
    {
      "cell_type": "code",
      "execution_count": 5,
      "metadata": {
        "colab": {
          "base_uri": "https://localhost:8080/"
        },
        "id": "dLBuxfBkxWnO",
        "outputId": "50fe4e05-e2cc-4e94-d7d8-ea4e29e55608"
      },
      "outputs": [
        {
          "output_type": "execute_result",
          "data": {
            "text/plain": [
              "device(type='cuda')"
            ]
          },
          "metadata": {},
          "execution_count": 5
        }
      ],
      "source": [
        "def get_device():\n",
        "  if torch.cuda.is_available():\n",
        "      return torch.device('cuda')\n",
        "  else:\n",
        "      return torch.device('cpu')\n",
        "device = get_device()\n",
        "device\n",
        "\n"
      ]
    },
    {
      "cell_type": "code",
      "execution_count": 6,
      "metadata": {
        "id": "wv9WoCphxWnO"
      },
      "outputs": [],
      "source": [
        "# import matplotlib.pyplot as plt\n",
        "# for i,(img,label) in  enumrate(trainloader)\n",
        "# plt.imshow()"
      ]
    },
    {
      "cell_type": "code",
      "execution_count": 7,
      "metadata": {
        "id": "bWHx-Hx_xWnO"
      },
      "outputs": [],
      "source": [
        "class ConvModule(nn.Module):\n",
        "    def __init__(self, in_channels, out_channels, kernel_size, stride, padding):\n",
        "        super(ConvModule, self).__init__()\n",
        "        self.conv = nn.Conv2d(in_channels, out_channels, kernel_size, stride, padding)\n",
        "        self.bn = nn.BatchNorm2d(out_channels)\n",
        "        self.relu = nn.ReLU(True)\n",
        "\n",
        "    def forward(self, x):\n",
        "        out = self.conv(x)\n",
        "        out = self.bn(out)\n",
        "        out = self.relu(out)\n",
        "        return out\n",
        "    \n",
        "\n",
        "class InceptionModule(nn.Module):\n",
        "    def __init__(self, in_channels, Ch1x1 , Ch3x3):\n",
        "        super(InceptionModule, self).__init__()\n",
        "        self.branch1 = ConvModule(in_channels, Ch1x1, kernel_size=1, stride=1, padding=0)\n",
        "        self.branch2 = ConvModule(in_channels, Ch3x3, kernel_size=3, stride=1, padding=1)\n",
        "    def forward(self, x):\n",
        "        branch1 = self.branch1(x)\n",
        "        branch2 = self.branch2(x)\n",
        "        return torch.cat([branch1, branch2], 1)\n",
        "    \n",
        "class DownsampleModule(nn.Module):\n",
        "    def __init__(self, in_channels, Ch3x3):\n",
        "        super(DownsampleModule, self).__init__()\n",
        "        self.branch1 = ConvModule(in_channels, Ch3x3, kernel_size=3, stride=2, padding=0)\n",
        "        self.branch2 = nn.MaxPool2d(3, stride=2)\n",
        "    def forward(self, x):\n",
        "        branch1 = self.branch1(x)\n",
        "        branch2 = self.branch2(x)\n",
        "        return torch.cat([branch1, branch2], 1)\n",
        "\n",
        "class InceptionNet(nn.Module):\n",
        "    def __init__(self, classes=10):\n",
        "        super(InceptionNet, self).__init__()\n",
        "        self.conv1 = ConvModule(in_channels=3, out_channels=96 , kernel_size=3, stride=1, padding=0)\n",
        "        self.inception1 = InceptionModule(in_channels=96, Ch1x1=32 , Ch3x3=32)\n",
        "        self.inception2 = InceptionModule(in_channels=64, Ch1x1=32 , Ch3x3=48)\n",
        "        self.downsample1 = DownsampleModule(in_channels=80, Ch3x3=80)\n",
        "        self.inception3 = InceptionModule(in_channels=160, Ch1x1=112 , Ch3x3=48)\n",
        "        self.inception4 = InceptionModule(in_channels=160, Ch1x1=96 , Ch3x3=64)\n",
        "        self.inception5 = InceptionModule(in_channels=160, Ch1x1=80 , Ch3x3=80)\n",
        "        self.inception6 = InceptionModule(in_channels=160, Ch1x1=48 , Ch3x3=96)\n",
        "        self.downsample2 = DownsampleModule(in_channels=144, Ch3x3=96)\n",
        "        self.inception7 = InceptionModule(in_channels=240, Ch1x1=176 , Ch3x3=160)\n",
        "        self.inception8 = InceptionModule(in_channels=336, Ch1x1=176 , Ch3x3=160)\n",
        "        self.mean_pool = nn.AdaptiveAvgPool2d((7 , 7))\n",
        "        self.fc = nn.Linear(16464, classes)\n",
        "    def forward(self, x):\n",
        "        out = self.conv1(x)\n",
        "        out = self.inception1(out)\n",
        "        out = self.inception2(out)\n",
        "        out = self.downsample1(out)\n",
        "        out = self.inception3(out)\n",
        "        out = self.inception4(out)\n",
        "        out = self.inception5(out)\n",
        "        out = self.inception6(out)\n",
        "        out = self.downsample2(out)\n",
        "        out = self.inception7(out)\n",
        "        out = self.inception8(out)\n",
        "        out = self.mean_pool(out)\n",
        "        out = torch.flatten(out,1)\n",
        "        out = self.fc(out)\n",
        "        return out"
      ]
    },
    {
      "cell_type": "code",
      "execution_count": 8,
      "metadata": {
        "id": "by5BljVzxWnP"
      },
      "outputs": [],
      "source": [
        "# # random image testing\n",
        "\n",
        "# for i, (images, labels) in enumerate(train_loader):\n",
        "#     # plt.imshow(images[1].numpy().transpose(1, 2, 0))\n",
        "#     plt.show()\n",
        "#     images = torch.rand(images.size()).to(device)\n",
        "#     labels = torch.rand(labels.size()).to(device)\n",
        "#     # print img\n",
        "#     plt.imshow(images[1].numpy().transpose(1, 2, 0))\n",
        "#     plt.show()\n",
        "\n",
        "#     break"
      ]
    },
    {
      "cell_type": "code",
      "execution_count": 9,
      "metadata": {
        "id": "_6v1mePyxWnP"
      },
      "outputs": [],
      "source": [
        "\n",
        "def LabelCorruption(percentage,myloader):\n",
        "    labels = myloader.dataset.targets[:]\n",
        "    data = myloader.dataset.data\n",
        "    num = int(len(labels)*percentage)\n",
        "    idxes = []\n",
        "    if percentage == 1:\n",
        "        idxes = list(range(len(labels)))\n",
        "    while len(idxes) < num:\n",
        "        idx = np.random.randint(0,len(labels))\n",
        "        if idx not in idxes:\n",
        "            idxes.append(idx)\n",
        "    for idx in idxes:\n",
        "        randomLabel = np.random.randint(0,10)\n",
        "        while randomLabel == labels[idx]:\n",
        "            randomLabel = np.random.randint(0,10)\n",
        "        labels[idx] = randomLabel\n",
        "    corrupted_dataset = torchvision.datasets.CIFAR10(root='./', train=True, download=True, transform=transform)\n",
        "    corrupted_dataset.data = data\n",
        "    corrupted_dataset.targets = labels\n",
        "    corrupted_loader = torch.utils.data.DataLoader(dataset=corrupted_dataset, batch_size=batch_size, shuffle=True)\n",
        "    return corrupted_loader\n",
        "\n"
      ]
    },
    {
      "cell_type": "code",
      "execution_count": 10,
      "metadata": {
        "id": "QbLQr9e2xWnQ"
      },
      "outputs": [],
      "source": [
        "\n",
        "def accuracy(output , labels):\n",
        "    output = output.to(device)\n",
        "    labels = labels.to(device)\n",
        "    _, predicted = torch.max(output.data, 1)\n",
        "    total = labels.size(0)\n",
        "    correct = (predicted == labels).sum().item()\n",
        "    return correct / total\n",
        "\n",
        "\n",
        "def getGaussianNoise(images , mean , std):\n",
        "    n = images.size(0)\n",
        "    c = images.size(1)\n",
        "    h = images.size(2)\n",
        "    w = images.size(3)\n",
        "    # gaussian noise distribution with mean and var same as dataset\n",
        "    mean = np.tile(mean, (n, h, w, 1)).transpose((0, 3, 1, 2))\n",
        "    std = np.tile(std, (n, h, w, 1)).transpose((0, 3, 1, 2))\n",
        "    \n",
        "    noiseimages = np.random.normal(mean, std, (n,c,h,w))\n",
        "    noiseimages = torch.from_numpy(noiseimages)\n",
        "    noiseimages = noiseimages.float()\n",
        "    noiseimages = noiseimages.to(device)\n",
        "    return noiseimages\n",
        "\n",
        "def getMeanVar(train_loader):\n",
        "    mean = 0.0\n",
        "    std = 0.0\n",
        "    total = 0\n",
        "    for data, _ in tqdm(train_loader):\n",
        "         n = data.size(0)\n",
        "         data = data.view(n, data.size(1), -1)\n",
        "         mean += data.mean(2).sum(0)\n",
        "         std += data.std(2).sum(0)\n",
        "         total += n\n",
        "    mean /= total\n",
        "    std /= total\n",
        "    return mean , std\n",
        "\n",
        " \n",
        "\n",
        "\n",
        "\n",
        "def train(train_loader,epochs , randomLabel=False ,permutePixel = False ,randomPixel=False , GaussianNoise=False):\n",
        "    model = InceptionNet().to(device)\n",
        "    criterion = nn.CrossEntropyLoss().to(device)\n",
        "    optimizer = torch.optim.SGD(model.parameters(), lr=0.1, momentum=0.9)\n",
        "    scheduler = torch.optim.lr_scheduler.StepLR(optimizer, 1, gamma=0.95)\n",
        "\n",
        "    train_loss = []\n",
        "    train_acclst = []\n",
        "    everyitr_loss = []\n",
        "    # perm = torch.randperm(3072)\n",
        "    itr = 0\n",
        "    if randomLabel:\n",
        "        train_loader = LabelCorruption(1,train_loader)\n",
        "\n",
        "    if GaussianNoise:\n",
        "        mue , var = getMeanVar(train_loader)\n",
        "    \n",
        "    for epoch in range(epochs):\n",
        "        model.train()\n",
        "        running_loss = 0.0\n",
        "        total = 0\n",
        "        correct = 0\n",
        "        for i, (images, labels) in enumerate(tqdm(train_loader)):\n",
        "            images = images.to(device)\n",
        "            labels = labels.to(device)\n",
        "            outputs = None\n",
        "            if randomPixel:\n",
        "                randomImages = torch.rand(images.size()).to(device)\n",
        "                outputs = model(randomImages)\n",
        "            elif permutePixel:\n",
        "                imagescpu = images.cpu().numpy()\n",
        "                permutatefunc = np.random.default_rng(32)\n",
        "                permuteImages = permutatefunc.permutation(imagescpu,axis = 2)\n",
        "                permuteImages = torch.from_numpy(permuteImages).to(device)\n",
        "                outputs = model(permuteImages)\n",
        "            elif GaussianNoise:\n",
        "                 gaussianImages = getGaussianNoise(images , mue , var)\n",
        "                 outputs = model(gaussianImages)\n",
        "            else:\n",
        "                outputs = model(images)\n",
        "            loss = criterion(outputs, labels)\n",
        "            optimizer.zero_grad()\n",
        "            loss.backward()\n",
        "            optimizer.step()\n",
        "            running_loss += loss.item()\n",
        "            total += labels.size(0)\n",
        "            everyitr_loss.append(running_loss/total)\n",
        "            correct += (outputs.argmax(1) == labels).sum().item()\n",
        "\n",
        "        train_loss.append(running_loss/total)\n",
        "        train_acclst.append(correct/total)\n",
        "        # print(\"Epoch\" , epoch , \"Train Loss\" , running_loss/total)\n",
        "        scheduler.step()  \n",
        "    return train_loss, model, train_acclst, everyitr_loss"
      ]
    },
    {
      "cell_type": "code",
      "execution_count": 11,
      "metadata": {
        "colab": {
          "base_uri": "https://localhost:8080/"
        },
        "id": "rOfcOAdQxWnQ",
        "outputId": "5fa0dda1-a5ad-4f50-fc97-b3124eaa6ea1"
      },
      "outputs": [
        {
          "output_type": "stream",
          "name": "stdout",
          "text": [
            "Files already downloaded and verified\n"
          ]
        },
        {
          "output_type": "stream",
          "name": "stderr",
          "text": [
            "100%|██████████| 782/782 [00:45<00:00, 17.23it/s]\n",
            "100%|██████████| 782/782 [00:37<00:00, 21.09it/s]\n",
            "100%|██████████| 782/782 [00:36<00:00, 21.50it/s]\n",
            "100%|██████████| 782/782 [00:36<00:00, 21.16it/s]\n",
            "100%|██████████| 782/782 [00:36<00:00, 21.25it/s]\n",
            "100%|██████████| 782/782 [00:36<00:00, 21.19it/s]\n",
            "100%|██████████| 782/782 [00:36<00:00, 21.46it/s]\n",
            "100%|██████████| 782/782 [00:36<00:00, 21.18it/s]\n",
            "100%|██████████| 782/782 [00:36<00:00, 21.15it/s]\n",
            "100%|██████████| 782/782 [00:36<00:00, 21.40it/s]\n",
            "100%|██████████| 782/782 [00:36<00:00, 21.19it/s]\n",
            "100%|██████████| 782/782 [00:36<00:00, 21.16it/s]\n",
            "100%|██████████| 782/782 [00:37<00:00, 21.05it/s]\n",
            "100%|██████████| 782/782 [00:36<00:00, 21.51it/s]\n",
            "100%|██████████| 782/782 [00:37<00:00, 21.10it/s]\n",
            "100%|██████████| 782/782 [00:36<00:00, 21.14it/s]\n",
            "100%|██████████| 782/782 [00:36<00:00, 21.17it/s]\n",
            "100%|██████████| 782/782 [00:36<00:00, 21.39it/s]\n",
            "100%|██████████| 782/782 [00:36<00:00, 21.20it/s]\n",
            "100%|██████████| 782/782 [00:36<00:00, 21.17it/s]\n",
            "100%|██████████| 782/782 [00:36<00:00, 21.36it/s]\n",
            "100%|██████████| 782/782 [00:37<00:00, 20.91it/s]\n",
            "100%|██████████| 782/782 [00:37<00:00, 20.96it/s]\n",
            "100%|██████████| 782/782 [00:37<00:00, 21.04it/s]\n",
            "100%|██████████| 782/782 [00:36<00:00, 21.40it/s]\n",
            "100%|██████████| 782/782 [00:37<00:00, 20.79it/s]\n",
            "100%|██████████| 782/782 [00:37<00:00, 20.78it/s]\n",
            "100%|██████████| 782/782 [00:38<00:00, 20.49it/s]\n",
            "100%|██████████| 782/782 [00:37<00:00, 20.74it/s]\n",
            "100%|██████████| 782/782 [00:38<00:00, 20.41it/s]\n",
            "100%|██████████| 782/782 [00:38<00:00, 20.58it/s]\n",
            "100%|██████████| 782/782 [00:38<00:00, 20.52it/s]\n",
            "100%|██████████| 782/782 [00:37<00:00, 20.68it/s]\n",
            "100%|██████████| 782/782 [00:37<00:00, 20.70it/s]\n",
            "100%|██████████| 782/782 [00:37<00:00, 20.64it/s]\n",
            "100%|██████████| 782/782 [00:38<00:00, 20.56it/s]\n",
            "100%|██████████| 782/782 [00:38<00:00, 20.37it/s]\n",
            "100%|██████████| 782/782 [00:37<00:00, 20.61it/s]\n",
            "100%|██████████| 782/782 [00:37<00:00, 20.63it/s]\n",
            "100%|██████████| 782/782 [00:38<00:00, 20.46it/s]\n",
            "100%|██████████| 782/782 [00:38<00:00, 20.40it/s]\n",
            "100%|██████████| 782/782 [00:38<00:00, 20.32it/s]\n",
            "100%|██████████| 782/782 [00:37<00:00, 20.71it/s]\n",
            "100%|██████████| 782/782 [00:37<00:00, 20.60it/s]\n",
            "100%|██████████| 782/782 [00:38<00:00, 20.56it/s]\n",
            "100%|██████████| 782/782 [00:37<00:00, 20.63it/s]\n",
            "100%|██████████| 782/782 [00:37<00:00, 20.96it/s]\n",
            "100%|██████████| 782/782 [00:38<00:00, 20.57it/s]\n",
            "100%|██████████| 782/782 [00:37<00:00, 20.60it/s]\n",
            "100%|██████████| 782/782 [00:38<00:00, 20.51it/s]\n",
            "100%|██████████| 1563/1563 [00:37<00:00, 42.24it/s]\n",
            "100%|██████████| 1563/1563 [00:38<00:00, 40.48it/s]\n",
            "100%|██████████| 1563/1563 [00:38<00:00, 40.77it/s]\n",
            "100%|██████████| 1563/1563 [00:37<00:00, 41.96it/s]\n",
            "100%|██████████| 1563/1563 [00:38<00:00, 40.48it/s]\n",
            "100%|██████████| 1563/1563 [00:39<00:00, 39.51it/s]\n",
            "100%|██████████| 1563/1563 [00:38<00:00, 40.72it/s]\n",
            "100%|██████████| 1563/1563 [00:38<00:00, 40.64it/s]\n",
            "100%|██████████| 1563/1563 [00:39<00:00, 39.94it/s]\n",
            "100%|██████████| 1563/1563 [00:38<00:00, 40.27it/s]\n",
            "100%|██████████| 1563/1563 [00:37<00:00, 41.78it/s]\n",
            "100%|██████████| 1563/1563 [00:38<00:00, 40.44it/s]\n",
            "100%|██████████| 1563/1563 [00:38<00:00, 40.45it/s]\n",
            "100%|██████████| 1563/1563 [00:38<00:00, 41.06it/s]\n",
            "100%|██████████| 1563/1563 [00:38<00:00, 41.09it/s]\n",
            "100%|██████████| 1563/1563 [00:38<00:00, 40.34it/s]\n",
            "100%|██████████| 1563/1563 [00:38<00:00, 40.13it/s]\n",
            "100%|██████████| 1563/1563 [00:37<00:00, 42.17it/s]\n",
            "100%|██████████| 1563/1563 [00:38<00:00, 40.62it/s]\n",
            "100%|██████████| 1563/1563 [00:38<00:00, 40.66it/s]\n",
            "100%|██████████| 1563/1563 [00:37<00:00, 42.23it/s]\n",
            "100%|██████████| 1563/1563 [00:38<00:00, 40.49it/s]\n",
            "100%|██████████| 1563/1563 [00:38<00:00, 40.31it/s]\n",
            "100%|██████████| 1563/1563 [00:37<00:00, 41.51it/s]\n",
            "100%|██████████| 1563/1563 [00:38<00:00, 40.47it/s]\n",
            "100%|██████████| 1563/1563 [00:38<00:00, 40.23it/s]\n",
            "100%|██████████| 1563/1563 [00:38<00:00, 40.31it/s]\n",
            "100%|██████████| 1563/1563 [00:37<00:00, 41.50it/s]\n",
            "100%|██████████| 1563/1563 [00:38<00:00, 40.19it/s]\n",
            "100%|██████████| 1563/1563 [00:38<00:00, 40.16it/s]\n",
            "100%|██████████| 1563/1563 [00:38<00:00, 41.10it/s]\n",
            "100%|██████████| 1563/1563 [00:38<00:00, 40.61it/s]\n",
            "100%|██████████| 1563/1563 [00:39<00:00, 39.84it/s]\n",
            "100%|██████████| 1563/1563 [00:38<00:00, 40.29it/s]\n",
            "100%|██████████| 1563/1563 [00:37<00:00, 41.88it/s]\n",
            "100%|██████████| 1563/1563 [00:38<00:00, 40.12it/s]\n",
            "100%|██████████| 1563/1563 [00:38<00:00, 40.37it/s]\n",
            "100%|██████████| 1563/1563 [00:37<00:00, 41.77it/s]\n",
            "100%|██████████| 1563/1563 [00:38<00:00, 40.79it/s]\n",
            "100%|██████████| 1563/1563 [00:38<00:00, 40.38it/s]\n",
            "100%|██████████| 1563/1563 [00:38<00:00, 40.60it/s]\n",
            "100%|██████████| 1563/1563 [00:37<00:00, 41.59it/s]\n",
            "100%|██████████| 1563/1563 [00:38<00:00, 40.51it/s]\n",
            "100%|██████████| 1563/1563 [00:38<00:00, 40.26it/s]\n",
            "100%|██████████| 1563/1563 [00:37<00:00, 41.72it/s]\n",
            "100%|██████████| 1563/1563 [00:39<00:00, 39.78it/s]\n",
            "100%|██████████| 1563/1563 [00:39<00:00, 40.07it/s]\n",
            "100%|██████████| 1563/1563 [00:38<00:00, 41.03it/s]\n",
            "100%|██████████| 1563/1563 [00:38<00:00, 40.87it/s]\n",
            "100%|██████████| 1563/1563 [00:38<00:00, 40.52it/s]\n",
            "100%|██████████| 1563/1563 [00:38<00:00, 40.83it/s]\n",
            "100%|██████████| 1563/1563 [00:37<00:00, 41.99it/s]\n",
            "100%|██████████| 1563/1563 [00:38<00:00, 40.54it/s]\n",
            "100%|██████████| 1563/1563 [00:38<00:00, 40.42it/s]\n",
            "100%|██████████| 1563/1563 [00:37<00:00, 41.91it/s]\n",
            "100%|██████████| 1563/1563 [00:38<00:00, 40.33it/s]\n",
            "100%|██████████| 1563/1563 [00:38<00:00, 40.34it/s]\n",
            "100%|██████████| 1563/1563 [00:37<00:00, 41.88it/s]\n",
            "100%|██████████| 1563/1563 [00:38<00:00, 40.75it/s]\n",
            "100%|██████████| 1563/1563 [00:38<00:00, 40.48it/s]\n",
            "100%|██████████| 1563/1563 [00:38<00:00, 41.09it/s]\n",
            "100%|██████████| 1563/1563 [00:41<00:00, 37.40it/s]\n",
            "100%|██████████| 1563/1563 [00:37<00:00, 41.38it/s]\n",
            "100%|██████████| 1563/1563 [00:39<00:00, 39.53it/s]\n",
            "100%|██████████| 1563/1563 [00:38<00:00, 40.16it/s]\n",
            "100%|██████████| 1563/1563 [00:37<00:00, 42.07it/s]\n",
            "100%|██████████| 1563/1563 [00:38<00:00, 40.31it/s]\n",
            "100%|██████████| 1563/1563 [00:38<00:00, 40.41it/s]\n",
            "100%|██████████| 1563/1563 [00:37<00:00, 41.85it/s]\n",
            "100%|██████████| 1563/1563 [00:38<00:00, 40.23it/s]\n",
            "100%|██████████| 1563/1563 [00:38<00:00, 40.34it/s]\n",
            "100%|██████████| 1563/1563 [00:38<00:00, 41.08it/s]\n",
            "100%|██████████| 1563/1563 [00:38<00:00, 40.89it/s]\n",
            "100%|██████████| 1563/1563 [00:38<00:00, 40.12it/s]\n",
            "100%|██████████| 1563/1563 [00:38<00:00, 40.41it/s]\n",
            "100%|██████████| 1563/1563 [00:37<00:00, 41.79it/s]\n",
            "100%|██████████| 1563/1563 [00:38<00:00, 40.23it/s]\n",
            "100%|██████████| 1563/1563 [00:38<00:00, 40.23it/s]\n",
            "100%|██████████| 1563/1563 [00:37<00:00, 41.59it/s]\n",
            "100%|██████████| 1563/1563 [00:38<00:00, 40.46it/s]\n",
            "100%|██████████| 1563/1563 [00:38<00:00, 40.21it/s]\n",
            "100%|██████████| 1563/1563 [00:38<00:00, 40.17it/s]\n",
            "100%|██████████| 1563/1563 [00:37<00:00, 41.72it/s]\n",
            "100%|██████████| 1563/1563 [00:38<00:00, 40.31it/s]\n",
            "100%|██████████| 1563/1563 [00:38<00:00, 40.36it/s]\n",
            "100%|██████████| 1563/1563 [00:37<00:00, 41.69it/s]\n",
            "100%|██████████| 1563/1563 [00:38<00:00, 40.32it/s]\n",
            "100%|██████████| 1563/1563 [00:38<00:00, 40.13it/s]\n",
            "100%|██████████| 1563/1563 [00:38<00:00, 40.50it/s]\n",
            "100%|██████████| 1563/1563 [00:37<00:00, 41.39it/s]\n",
            "100%|██████████| 1563/1563 [00:38<00:00, 40.18it/s]\n",
            "100%|██████████| 1563/1563 [00:39<00:00, 40.00it/s]\n",
            "100%|██████████| 1563/1563 [00:37<00:00, 42.04it/s]\n",
            "100%|██████████| 1563/1563 [00:38<00:00, 40.84it/s]\n",
            "100%|██████████| 1563/1563 [00:38<00:00, 40.79it/s]\n",
            "100%|██████████| 1563/1563 [00:37<00:00, 42.13it/s]\n",
            "100%|██████████| 1563/1563 [00:38<00:00, 40.81it/s]\n",
            "100%|██████████| 1563/1563 [00:38<00:00, 40.55it/s]\n",
            "100%|██████████| 1563/1563 [00:36<00:00, 42.29it/s]\n",
            "100%|██████████| 1563/1563 [00:38<00:00, 41.04it/s]\n",
            "100%|██████████| 1563/1563 [00:18<00:00, 83.00it/s]\n",
            "100%|██████████| 1563/1563 [00:46<00:00, 33.60it/s]\n",
            "100%|██████████| 1563/1563 [00:45<00:00, 34.42it/s]\n",
            "100%|██████████| 1563/1563 [00:45<00:00, 34.59it/s]\n",
            "100%|██████████| 1563/1563 [00:45<00:00, 34.37it/s]\n",
            "100%|██████████| 1563/1563 [00:46<00:00, 33.58it/s]\n",
            "100%|██████████| 1563/1563 [00:45<00:00, 34.32it/s]\n",
            "100%|██████████| 1563/1563 [00:45<00:00, 34.43it/s]\n",
            "100%|██████████| 1563/1563 [00:45<00:00, 34.39it/s]\n",
            "100%|██████████| 1563/1563 [00:46<00:00, 33.51it/s]\n",
            "100%|██████████| 1563/1563 [00:45<00:00, 34.33it/s]\n",
            "100%|██████████| 1563/1563 [00:45<00:00, 34.33it/s]\n",
            "100%|██████████| 1563/1563 [00:45<00:00, 34.58it/s]\n",
            "100%|██████████| 1563/1563 [00:46<00:00, 33.93it/s]\n",
            "100%|██████████| 1563/1563 [00:45<00:00, 34.16it/s]\n",
            "100%|██████████| 1563/1563 [00:45<00:00, 34.42it/s]\n",
            "100%|██████████| 1563/1563 [00:45<00:00, 34.42it/s]\n",
            "100%|██████████| 1563/1563 [00:45<00:00, 34.16it/s]\n",
            "100%|██████████| 1563/1563 [00:46<00:00, 33.65it/s]\n",
            "100%|██████████| 1563/1563 [00:45<00:00, 34.40it/s]\n",
            "100%|██████████| 1563/1563 [00:45<00:00, 34.33it/s]\n",
            "100%|██████████| 1563/1563 [00:45<00:00, 34.48it/s]\n",
            "100%|██████████| 1563/1563 [00:46<00:00, 33.69it/s]\n",
            "100%|██████████| 1563/1563 [00:45<00:00, 34.66it/s]\n",
            "100%|██████████| 1563/1563 [00:45<00:00, 34.63it/s]\n",
            "100%|██████████| 1563/1563 [00:45<00:00, 34.56it/s]\n",
            "100%|██████████| 1563/1563 [00:46<00:00, 33.83it/s]\n",
            "100%|██████████| 1563/1563 [00:45<00:00, 34.69it/s]\n",
            "100%|██████████| 1563/1563 [00:44<00:00, 34.83it/s]\n",
            "100%|██████████| 1563/1563 [00:45<00:00, 34.63it/s]\n",
            "100%|██████████| 1563/1563 [00:45<00:00, 34.30it/s]\n",
            "100%|██████████| 1563/1563 [00:45<00:00, 34.09it/s]\n",
            "100%|██████████| 1563/1563 [00:45<00:00, 34.49it/s]\n",
            "100%|██████████| 1563/1563 [00:44<00:00, 34.74it/s]\n",
            "100%|██████████| 1563/1563 [00:45<00:00, 34.64it/s]\n",
            "100%|██████████| 1563/1563 [00:46<00:00, 33.74it/s]\n",
            "100%|██████████| 1563/1563 [00:45<00:00, 34.53it/s]\n",
            "100%|██████████| 1563/1563 [00:45<00:00, 34.64it/s]\n",
            "100%|██████████| 1563/1563 [00:45<00:00, 34.37it/s]\n",
            "100%|██████████| 1563/1563 [00:46<00:00, 33.93it/s]\n",
            "100%|██████████| 1563/1563 [00:46<00:00, 33.72it/s]\n",
            "100%|██████████| 1563/1563 [00:45<00:00, 34.68it/s]\n",
            "100%|██████████| 1563/1563 [00:46<00:00, 33.35it/s]\n",
            "100%|██████████| 1563/1563 [00:45<00:00, 34.10it/s]\n",
            "100%|██████████| 1563/1563 [00:46<00:00, 33.97it/s]\n",
            "100%|██████████| 1563/1563 [00:45<00:00, 34.22it/s]\n",
            "100%|██████████| 1563/1563 [00:45<00:00, 34.55it/s]\n",
            "100%|██████████| 1563/1563 [00:45<00:00, 34.49it/s]\n",
            "100%|██████████| 1563/1563 [00:46<00:00, 33.41it/s]\n",
            "100%|██████████| 1563/1563 [00:45<00:00, 34.06it/s]\n",
            "100%|██████████| 1563/1563 [00:46<00:00, 33.96it/s]\n"
          ]
        }
      ],
      "source": [
        "RandomLabeltrainloss , RandomLabelNet , RandomLabeltrainacc, RandomLabeleveryitr_loss = train(train_loader, 50, randomLabel=True)\n",
        "RandomPixeltrainloss , RandomPixelNet , RandomPixeltrainacc, RandomPixeleveryitr_loss = train(train_loader, 50, randomPixel=True)\n",
        "PermutedPixeltrainloss , PermutedPixelNet , PermutedPixeltrainacc, PermutedPixeleveryitr_loss = train(train_loader, 50, permutePixel=True)\n",
        "GaussianNoisetrainloss , GaussianNoiseNet , GaussianNoisetrainacc, GaussianNoiseeveryitr_loss = train(train_loader, 50, GaussianNoise=True)\n",
        "\n"
      ]
    },
    {
      "cell_type": "code",
      "execution_count": 22,
      "metadata": {
        "id": "Cv96MpdixWnR",
        "colab": {
          "base_uri": "https://localhost:8080/"
        },
        "outputId": "4cd3545b-e3c7-4476-c6d1-b977482e25db"
      },
      "outputs": [
        {
          "output_type": "stream",
          "name": "stderr",
          "text": [
            "100%|██████████| 1563/1563 [00:37<00:00, 41.56it/s]\n",
            "100%|██████████| 1563/1563 [00:37<00:00, 42.12it/s]\n",
            "100%|██████████| 1563/1563 [00:35<00:00, 43.95it/s]\n",
            "100%|██████████| 1563/1563 [00:37<00:00, 42.20it/s]\n",
            "100%|██████████| 1563/1563 [00:36<00:00, 42.33it/s]\n",
            "100%|██████████| 1563/1563 [00:38<00:00, 40.23it/s]\n",
            "100%|██████████| 1563/1563 [00:39<00:00, 39.33it/s]\n",
            "100%|██████████| 1563/1563 [00:39<00:00, 39.95it/s]\n",
            "100%|██████████| 1563/1563 [00:39<00:00, 39.79it/s]\n",
            "100%|██████████| 1563/1563 [00:39<00:00, 39.64it/s]\n",
            "100%|██████████| 1563/1563 [00:39<00:00, 39.92it/s]\n",
            "100%|██████████| 1563/1563 [00:38<00:00, 40.25it/s]\n",
            "100%|██████████| 1563/1563 [00:38<00:00, 41.10it/s]\n",
            "100%|██████████| 1563/1563 [00:37<00:00, 42.19it/s]\n",
            "100%|██████████| 1563/1563 [00:38<00:00, 40.93it/s]\n",
            "100%|██████████| 1563/1563 [00:38<00:00, 40.97it/s]\n",
            "100%|██████████| 1563/1563 [00:38<00:00, 40.69it/s]\n",
            "100%|██████████| 1563/1563 [00:38<00:00, 40.89it/s]\n",
            "100%|██████████| 1563/1563 [00:37<00:00, 41.32it/s]\n",
            "100%|██████████| 1563/1563 [00:37<00:00, 41.99it/s]\n",
            "100%|██████████| 1563/1563 [00:38<00:00, 41.07it/s]\n",
            "100%|██████████| 1563/1563 [00:37<00:00, 41.24it/s]\n",
            "100%|██████████| 1563/1563 [00:37<00:00, 41.37it/s]\n",
            "100%|██████████| 1563/1563 [00:37<00:00, 41.13it/s]\n",
            "100%|██████████| 1563/1563 [00:37<00:00, 42.03it/s]\n",
            "100%|██████████| 1563/1563 [00:37<00:00, 41.40it/s]\n",
            "100%|██████████| 1563/1563 [00:38<00:00, 41.04it/s]\n",
            "100%|██████████| 1563/1563 [00:38<00:00, 41.00it/s]\n",
            "100%|██████████| 1563/1563 [00:37<00:00, 41.19it/s]\n",
            "100%|██████████| 1563/1563 [00:37<00:00, 41.25it/s]\n",
            "100%|██████████| 1563/1563 [00:36<00:00, 42.34it/s]\n",
            "100%|██████████| 1563/1563 [00:38<00:00, 41.05it/s]\n",
            "100%|██████████| 1563/1563 [00:37<00:00, 41.34it/s]\n",
            "100%|██████████| 1563/1563 [00:37<00:00, 41.17it/s]\n",
            "100%|██████████| 1563/1563 [00:38<00:00, 41.03it/s]\n",
            "100%|██████████| 1563/1563 [00:38<00:00, 41.12it/s]\n",
            "100%|██████████| 1563/1563 [00:36<00:00, 42.37it/s]\n",
            "100%|██████████| 1563/1563 [00:37<00:00, 41.16it/s]\n",
            "100%|██████████| 1563/1563 [00:38<00:00, 41.10it/s]\n",
            "100%|██████████| 1563/1563 [00:38<00:00, 40.91it/s]\n",
            "100%|██████████| 1563/1563 [00:38<00:00, 40.86it/s]\n",
            "100%|██████████| 1563/1563 [00:38<00:00, 41.12it/s]\n",
            "100%|██████████| 1563/1563 [00:37<00:00, 42.19it/s]\n",
            "100%|██████████| 1563/1563 [00:37<00:00, 41.42it/s]\n",
            "100%|██████████| 1563/1563 [00:37<00:00, 41.14it/s]\n",
            "100%|██████████| 1563/1563 [00:38<00:00, 41.00it/s]\n",
            "100%|██████████| 1563/1563 [00:38<00:00, 41.10it/s]\n",
            "100%|██████████| 1563/1563 [00:37<00:00, 41.38it/s]\n",
            "100%|██████████| 1563/1563 [00:36<00:00, 42.33it/s]\n",
            "100%|██████████| 1563/1563 [00:38<00:00, 41.08it/s]\n"
          ]
        }
      ],
      "source": [
        "# RandomLabeltrainloss , RandomLabelNet , RandomLabeltrainacc, RandomLabeleveryitr_loss = train(train_loader, test_loader, 1, randomLabel=True)\n",
        "Correcttrainloss , CorrectNet, Correcttrainacc, Correcteveryitr_loss = train(train_loader, 50)\n"
      ]
    },
    {
      "cell_type": "code",
      "execution_count": 13,
      "metadata": {
        "id": "1pCbO2gvxWnR"
      },
      "outputs": [],
      "source": [
        "# RandomPixeltrainloss , RandomPixelNet , RandomPixeltrainacc, RandomPixeleveryitr_loss = train(train_loader, test_loader, 1, randomPixel=True)\n"
      ]
    },
    {
      "cell_type": "code",
      "execution_count": 14,
      "metadata": {
        "id": "zT9nyizPxWnR"
      },
      "outputs": [],
      "source": [
        "# PermutedPixeltrainloss , PermutedPixelNet , PermutedPixeltrainacc, PermutedPixeleveryitr_loss = train(train_loader, test_loader, 1, permutePixel=True)\n"
      ]
    },
    {
      "cell_type": "code",
      "execution_count": 15,
      "metadata": {
        "id": "aZqPQuNkxWnR"
      },
      "outputs": [],
      "source": [
        "# GaussianNoisetrainloss , GaussianNoiseNet , GaussianNoisetrainacc, GaussianNoiseeveryitr_loss = train(train_loader, test_loader, 1, GaussianNoise=True)\n"
      ]
    },
    {
      "cell_type": "code",
      "execution_count": 17,
      "metadata": {
        "id": "opabhLb-xWnR"
      },
      "outputs": [],
      "source": [
        "# trainloss = [RandomLabeltrainloss,RandomPixeltrainloss,PermutedPixeltrainloss]\n",
        "trainloss = [Correcttrainloss,RandomLabeltrainloss,RandomPixeltrainloss,PermutedPixeltrainloss,]"
      ]
    },
    {
      "cell_type": "code",
      "execution_count": 23,
      "metadata": {
        "colab": {
          "base_uri": "https://localhost:8080/",
          "height": 430
        },
        "id": "MjBj9DTyxWnR",
        "outputId": "418722ff-c7fe-4d37-8c3d-b6407b57c300"
      },
      "outputs": [
        {
          "output_type": "display_data",
          "data": {
            "text/plain": [
              "<Figure size 640x480 with 1 Axes>"
            ],
            "image/png": "[encoded data removed]"
          },
          "metadata": {}
        }
      ],
      "source": [
        "\n",
        "# plot train loss vs epoch\n",
        "\n",
        "import matplotlib.pyplot as plt\n",
        "\n",
        "def plotlosses():\n",
        "  plt.plot(Correcttrainacc, label='Correct')\n",
        "  plt.plot(RandomLabeltrainacc, label='RandomLabel')\n",
        "  plt.plot(RandomPixeltrainacc, label='RandomPixel')\n",
        "  plt.plot(PermutedPixeltrainacc[:15], label='PermutePixel')\n",
        "  plt.plot(GaussianNoisetrainacc[:15], label='GaussianNoise')\n",
        "  plt.legend()\n",
        "  plt.show()\n",
        "\n",
        "\n",
        "plotlosses()"
      ]
    },
    {
      "cell_type": "code",
      "execution_count": 24,
      "metadata": {
        "id": "yJGhixYioUbd",
        "colab": {
          "base_uri": "https://localhost:8080/",
          "height": 430
        },
        "outputId": "3dee2195-1af1-4657-89e3-f3e00b8913fd"
      },
      "outputs": [
        {
          "output_type": "display_data",
          "data": {
            "text/plain": [
              "<Figure size 640x480 with 1 Axes>"
            ],
            "image/png": "[encoded data removed]"
          },
          "metadata": {}
        }
      ],
      "source": [
        "\n",
        "# plot train loss vs epoch\n",
        "\n",
        "import matplotlib.pyplot as plt\n",
        "\n",
        "def plotlosses():\n",
        "  plt.plot(Correcttrainacc[:15], label='Correct')\n",
        "  plt.plot(RandomLabeltrainloss[:15], label='RandomLabel')\n",
        "  plt.plot(RandomPixeltrainloss[:15], label='RandomPixel')\n",
        "  plt.plot(PermutedPixeltrainloss[:15], label='PermutePixel')\n",
        "  plt.plot(GaussianNoisetrainloss[:15], label='GaussianNoise')\n",
        "  plt.legend()\n",
        "  plt.show()\n",
        "\n",
        "\n",
        "plotlosses()"
      ]
    },
    {
      "cell_type": "code",
      "execution_count": 26,
      "metadata": {
        "colab": {
          "base_uri": "https://localhost:8080/",
          "height": 430
        },
        "id": "4z8N44MAlzGe",
        "outputId": "a01bf012-54ca-48bc-e47f-22811c931290"
      },
      "outputs": [
        {
          "output_type": "display_data",
          "data": {
            "text/plain": [
              "<Figure size 640x480 with 1 Axes>"
            ],
            "image/png": "[encoded data removed]"
          },
          "metadata": {}
        }
      ],
      "source": [
        "\n",
        "import matplotlib.pyplot as plt\n",
        "\n",
        "def plotlosses():\n",
        "  plt.plot(Correcteveryitr_loss, label='Correct')\n",
        "  plt.plot(RandomLabeleveryitr_loss[:10000], label='RandomLabel')\n",
        "  plt.plot(RandomPixeleveryitr_loss, label='RandomPixel')\n",
        "  plt.plot(PermutedPixeleveryitr_loss, label='PermutePixel')\n",
        "  plt.plot(GaussianNoiseeveryitr_loss, label='GaussianNoise')\n",
        "  plt.legend()\n",
        "  plt.show()\n",
        "\n",
        "\n",
        "plotlosses()"
      ]
    },
    {
      "cell_type": "code",
      "execution_count": null,
      "metadata": {
        "id": "C-J59uo14hgw"
      },
      "outputs": [],
      "source": []
    },
    {
      "cell_type": "code",
      "execution_count": null,
      "metadata": {
        "id": "qP-YI0qdorSK"
      },
      "outputs": [],
      "source": []
    },
    {
      "cell_type": "code",
      "execution_count": null,
      "metadata": {
        "id": "5CjmkETBotDr"
      },
      "outputs": [],
      "source": []
    },
    {
      "cell_type": "code",
      "execution_count": 28,
      "metadata": {
        "id": "cDkKeUHjosXu"
      },
      "outputs": [],
      "source": [
        "\n",
        "with open(path + 'Correcttrainloss.pkl', 'wb') as f:\n",
        "    pickle.dump(Correcttrainloss, f)\n",
        "with open(path + 'RandomLabeltrainloss.pkl', 'wb') as f:\n",
        "    pickle.dump(RandomLabeltrainloss, f)\n",
        "\n",
        "with open(path + 'RandomPixeltrainloss.pkl', 'wb') as f:\n",
        "    pickle.dump(RandomPixeltrainloss, f)\n",
        "\n",
        "with open(path + 'PermutedPixeltrainloss.pkl', 'wb') as f:\n",
        "    pickle.dump(PermutedPixeltrainloss, f)\n",
        "\n",
        "with open(path + 'GaussianNoisetrainloss.pkl', 'wb') as f:\n",
        "    pickle.dump(GaussianNoisetrainloss, f)\n",
        "\n",
        "\n",
        "# save accuracy vs epoch:-\n",
        "with open(path + 'Correcttrainacc.pkl', 'wb') as f:\n",
        "    pickle.dump(Correcttrainacc, f)\n",
        "\n",
        "with open(path + 'RandomLabeltrainacc.pkl', 'wb') as f:\n",
        "    pickle.dump(RandomLabeltrainacc, f)\n",
        "\n",
        "with open(path + 'RandomPixeltrainacc.pkl', 'wb') as f:\n",
        "    pickle.dump(RandomPixeltrainacc, f)\n",
        "\n",
        "with open(path + 'PermutedPixeltrainacc.pkl', 'wb') as f:\n",
        "    pickle.dump(PermutedPixeltrainacc, f)\n",
        "\n",
        "with open(path + 'GaussianNoisetrainacc.pkl', 'wb') as f:\n",
        "    pickle.dump(GaussianNoisetrainacc, f)\n",
        "\n",
        "\n",
        "# save every itr loss:-\n",
        "with open(path + 'Correcteveryitr_loss.pkl', 'wb') as f:\n",
        "    pickle.dump(Correcteveryitr_loss, f)\n",
        "\n",
        "with open(path + 'RandomLabeleveryitr_loss.pkl', 'wb') as f:\n",
        "    pickle.dump(RandomLabeleveryitr_loss, f)\n",
        "\n",
        "with open(path + 'RandomPixeleveryitr_loss.pkl', 'wb') as f:\n",
        "    pickle.dump(RandomPixeleveryitr_loss, f)\n",
        "\n",
        "with open(path + 'PermutedPixeleveryitr_loss.pkl', 'wb') as f:\n",
        "    pickle.dump(PermutedPixeleveryitr_loss, f)\n",
        "\n",
        "with open(path + 'GaussianNoiseeveryitr_loss.pkl', 'wb') as f:\n",
        "    pickle.dump(GaussianNoiseeveryitr_loss, f)\n",
        "\n",
        "\n",
        "# save model:-\n",
        "torch.save(CorrectNet.state_dict(), path + 'CorrectNet.pth')\n",
        "torch.save(RandomLabelNet.state_dict(), path + 'RandomLabelNet.pth')\n",
        "torch.save(RandomPixelNet.state_dict(), path + 'RandomPixelNet.pth')\n",
        "torch.save(PermutedPixelNet.state_dict(), path + 'PermutedPixelNet.pth')\n",
        "torch.save(GaussianNoiseNet.state_dict(), path + 'GaussianNoiseNet.pth')\n",
        "\n",
        "# save model using pickle:-\n",
        "with open(path + 'CorrectNet.pkl', 'wb') as f:\n",
        "    pickle.dump(CorrectNet, f)\n",
        "\n",
        "with open(path + 'RandomLabelNet.pkl', 'wb') as f:\n",
        "    pickle.dump(RandomLabelNet, f)\n",
        "\n",
        "with open(path + 'RandomPixelNet.pkl', 'wb') as f:\n",
        "    pickle.dump(RandomPixelNet, f)\n",
        "\n",
        "with open(path + 'PermutedPixelNet.pkl', 'wb') as f:\n",
        "    pickle.dump(PermutedPixelNet, f)\n",
        "\n",
        "with open(path + 'GaussianNoiseNet.pkl', 'wb') as f:\n",
        "    pickle.dump(GaussianNoiseNet, f)\n",
        "\n"
      ]
    },
    {
      "cell_type": "code",
      "execution_count": 33,
      "metadata": {
        "id": "WjGl7e01qMmg"
      },
      "outputs": [],
      "source": [
        "#load loss vs epoch:-\n",
        "losses= []\n",
        "\n",
        "trainlosses = {\n",
        "    \"Correcttrainloss\" : [],\n",
        "    \"RandomLabeltrainloss\" : [],\n",
        "    \"RandomPixeltrainloss\" : [],\n",
        "    \"PermutedPixeltrainloss\" : [],\n",
        "    \"GaussianNoisetrainloss\" : []\n",
        "\n",
        "}\n",
        "\n",
        "for trainloss in trainlosses.keys():\n",
        "    lossname = trainloss + \".pkl\"\n",
        "    with open(path + lossname, 'rb') as f:\n",
        "        unpickler = pickle.Unpickler(f)\n",
        "        # losses.append(pickle.load(f))\n",
        "        trainlosses[trainloss] = pickle.load(f)\n",
        "\n",
        "#load accuracy vs epoch:-\n",
        "accuracies= []\n",
        "\n",
        "trainaccuracies = {\n",
        "    \"Correcttrainacc\" : [],\n",
        "    \"RandomLabeltrainacc\" : [],\n",
        "    \"RandomPixeltrainacc\" : [],\n",
        "    \"PermutedPixeltrainacc\" : [],\n",
        "    \"GaussianNoisetrainacc\" : []\n",
        "\n",
        "}\n",
        "\n",
        "for trainaccuracy in trainaccuracies.keys():\n",
        "    accuracyname = trainaccuracy + \".pkl\"\n",
        "    with open(path + accuracyname, 'rb') as f:\n",
        "        unpickler = pickle.Unpickler(f)\n",
        "        # accuracies.append(pickle.load(f))\n",
        "        trainaccuracies[trainaccuracy] = pickle.load(f)\n",
        "\n",
        "#load every itr loss:-\n",
        "everyitr_losses= []\n",
        "\n",
        "everyitr_loss = {\n",
        "    \"Correcteveryitr_loss\" : [],\n",
        "    \"RandomLabeleveryitr_loss\" : [],\n",
        "    \"RandomPixeleveryitr_loss\" : [],\n",
        "    \"PermutedPixeleveryitr_loss\" : [],\n",
        "    \"GaussianNoiseeveryitr_loss\" : []\n",
        "\n",
        "}\n",
        "\n",
        "for everyitr in everyitr_loss.keys():\n",
        "    everyitrname = everyitr + \".pkl\"\n",
        "    with open(path + everyitrname, 'rb') as f:\n",
        "        unpickler = pickle.Unpickler(f)\n",
        "        # everyitr_losses.append(pickle.load(f))\n",
        "        everyitr_loss[everyitr] = pickle.load(f)\n",
        "\n",
        "#load model:-\n",
        "# models= []\n",
        "\n",
        "# model = {\n",
        "#     \"CorrectNet\" : [],\n",
        "#     \"RandomLabelNet\" : [],\n",
        "#     \"RandomPixelNet\" : [],\n",
        "#     \"PermutedPixelNet\" : [],\n",
        "#     \"GaussianNoiseNet\" : []\n",
        "\n",
        "# }\n",
        "\n",
        "# for modelname in model.keys():\n",
        "#     modelname = modelname + \".pkl\"\n",
        "#     with open(path + modelname, 'rb') as f:\n",
        "#         models.append(pickle.load(f))\n",
        "#         model[modelname] = pickle.load(f)\n",
        "\n",
        "#load model using pickle:-\n",
        "# modelspkl= []\n",
        "\n",
        "modelpkl = {\n",
        "    \"CorrectNet\" : [],\n",
        "    \"RandomLabelNet\" : [],\n",
        "    \"RandomPixelNet\" : [],\n",
        "    \"PermutedPixelNet\" : [],\n",
        "    \"GaussianNoiseNet\" : []\n",
        "\n",
        "}\n",
        "\n",
        "for modelname in modelpkl.keys():\n",
        "    model = modelname + \".pkl\"\n",
        "    with open(path + model, 'rb') as f:\n",
        "        # modelspkl.append(pickle.load(f))\n",
        "        modelpkl[modelname] = pickle.load(f)\n",
        "\n",
        "\n",
        "\n"
      ]
    },
    {
      "cell_type": "code",
      "execution_count": null,
      "metadata": {
        "id": "n0hc0LUQcFAh"
      },
      "outputs": [],
      "source": []
    },
    {
      "cell_type": "code",
      "execution_count": 34,
      "metadata": {
        "colab": {
          "base_uri": "https://localhost:8080/",
          "height": 472
        },
        "id": "Xqtmrfm0tnGc",
        "outputId": "d988b837-00c0-4d3a-83b7-55b7ca330768"
      },
      "outputs": [
        {
          "output_type": "display_data",
          "data": {
            "text/plain": [
              "<Figure size 640x480 with 1 Axes>"
            ],
            "image/png": "[encoded data removed]"
          },
          "metadata": {}
        }
      ],
      "source": [
        "# every1000th_loss = []\n",
        "\n",
        "# for i in range(len(trainaccuracies[\"RandomLabeltrainacc\"])):\n",
        "#     if i % 500 == 0:\n",
        "#         every1000th_loss.append(trainaccuracies[\"RandomLabeltrainacc\"][i])\n",
        "\n",
        "plt.plot(list(trainaccuracies[\"Correcttrainacc\"]), label='true labels')\n",
        "plt.xlabel('Training Steps')\n",
        "plt.ylabel('loss')\n",
        "plt.title('Inception Small on Cifar-10')\n",
        "plt.show()\n",
        "     "
      ]
    },
    {
      "cell_type": "code",
      "execution_count": null,
      "metadata": {
        "id": "1NePxG_NuryB"
      },
      "outputs": [],
      "source": []
    }
  ],
  "metadata": {
    "accelerator": "GPU",
    "colab": {
      "provenance": []
    },
    "gpuClass": "standard",
    "kernelspec": {
      "display_name": "Python 3",
      "language": "python",
      "name": "python3"
    },
    "language_info": {
      "codemirror_mode": {
        "name": "ipython",
        "version": 3
      },
      "file_extension": ".py",
      "mimetype": "text/x-python",
      "name": "python",
      "nbconvert_exporter": "python",
      "pygments_lexer": "ipython3",
      "version": "3.8.10"
    }
  },
  "nbformat": 4,
  "nbformat_minor": 0
}