{
  "cells": [
    {
      "cell_type": "markdown",
      "metadata": {
        "id": "hK3obGLiwl4a"
      },
      "source": [
        "# Scope of this experiment is to perform the Explicit Regularization Significance experiment on CIFAR-10 dataset\n",
        "<!--Model used Inception on CIFAR10  -->\n",
        "\n",
        " <!--cool list  -->\n",
        " ## Model used Inception on CIFAR10\n",
        "<!-- Super cool list of things to do -->\n",
        "### Accuracy vs Epochs for different Regularization Techniques\n",
        "- [x] test(w/ aug, wd, dropout)\n",
        "- [x] train(w/ aug, wd, dropout)\n",
        "- [x] test(w/o aug, dropout)\n",
        "- [x] train(w/o aug, dropout)\n",
        "- [x] test(w/o aug, wd, dropout)\n",
        "- [x] train(w/o aug, wd, dropout)\n",
        "\n"
      ]
    },
    {
      "attachments": {},
      "cell_type": "markdown",
      "metadata": {
        "id": "F4yL-KGRwl4e"
      },
      "source": [
        "To replicate : \n",
        "\n",
        "Effects of Expilcit regularizers on generalization performance. aug is data augmentation,\n",
        "wd is weight decay, BN is batch normalization. The shaded areas are the cumulative best test ac-\n",
        "curacy, as an indicator of potential performance gain of early stopping. (a) early stopping could\n",
        "potentially improve generalization when other regularizers are absent. (b) early stopping is not nec-\n",
        "essarily helpful on CIFAR10, but batch normalization stablize the training process and improves\n",
        "generalization.\n",
        "\n",
        "\n",
        "\n",
        "Reference : \n",
        "\n",
        "* Data augmentation: augment the training set via domain-specific transformations. For\n",
        "image data, commonly used transformations include random cropping, random perturba-\n",
        "tion of brightness, saturation, hue and contrast.\n",
        "* Weight decay: equivalent to a ` 2 regularizer on the weights; also equivalent to a hard\n",
        "constrain of the weights to an Euclidean ball, with the radius decided by the amount of\n",
        "weight decay.\n",
        "* Dropout (Srivastava et al., 2014): mask out each element of a layer output randomly with\n",
        "a given dropout probability. Only the Inception V3 for ImageNet uses dropout in our\n",
        "experiments.\n",
        "\n",
        "\n",
        "\n",
        "\n"
      ]
    },
    {
      "cell_type": "code",
      "execution_count": 1,
      "metadata": {
        "id": "y1SwDymlwl4f"
      },
      "outputs": [],
      "source": [
        "import torch\n",
        "import torch.nn as nn\n",
        "import torch.nn.functional as F\n",
        "import torch.optim as optim\n",
        "import torchvision\n",
        "import torchvision.transforms as transforms\n",
        "import matplotlib.pyplot as plt\n",
        "import numpy as np\n",
        "import time\n",
        "from torchsummary import summary\n",
        "from tqdm import tqdm\n",
        "import tensorflow\n",
        "import tensorflow as tf\n",
        "from sklearn.metrics import accuracy_score\n",
        "# import models from torchvision\n",
        "from torchvision import models"
      ]
    },
    {
      "cell_type": "code",
      "execution_count": 2,
      "metadata": {
        "colab": {
          "base_uri": "https://localhost:8080/"
        },
        "id": "OKOowQadfiN7",
        "outputId": "208c3dde-8bf9-4dba-dde0-ab18c36413b8"
      },
      "outputs": [
        {
          "data": {
            "text/plain": [
              "device(type='cuda')"
            ]
          },
          "execution_count": 2,
          "metadata": {},
          "output_type": "execute_result"
        }
      ],
      "source": [
        "def get_device():\n",
        "  if torch.cuda.is_available():\n",
        "      return torch.device('cuda')\n",
        "  else:\n",
        "      return torch.device('cpu')\n",
        "device = get_device()\n",
        "device"
      ]
    },
    {
      "cell_type": "code",
      "execution_count": 21,
      "metadata": {
        "id": "Zfc7hV7gwl4i"
      },
      "outputs": [],
      "source": [
        "# # Data loader\n",
        "\n",
        "transform = transforms.Compose([transforms.ToTensor(),transforms.CenterCrop(32),transforms.Normalize((0.5, 0.5, 0.5), (0.5, 0.5, 0.5))])\n",
        "\n",
        "aug_transform = transforms.Compose([\n",
        "    transforms.RandomCrop(32),\n",
        "    transforms.RandomHorizontalFlip(),\n",
        "    transforms.ColorJitter(brightness=0.1, saturation=0.1, hue=0.1, contrast=0.1),\n",
        "    transforms.ToTensor(),\n",
        "    transforms.Normalize((0.5, 0.5, 0.5), (0.5, 0.5, 0.5))\n",
        "])\n",
        "\n",
        "batch_size = 32"
      ]
    },
    {
      "cell_type": "code",
      "execution_count": 4,
      "metadata": {
        "colab": {
          "base_uri": "https://localhost:8080/"
        },
        "id": "iWwYNRTpfM-5",
        "outputId": "17cced47-bade-4591-ae4a-b2be891ece57"
      },
      "outputs": [
        {
          "name": "stdout",
          "output_type": "stream",
          "text": [
            "Downloading https://www.cs.toronto.edu/~kriz/cifar-10-python.tar.gz to ./cifar-10-python.tar.gz\n"
          ]
        },
        {
          "name": "stderr",
          "output_type": "stream",
          "text": [
            "100%|██████████| 170498071/170498071 [00:13<00:00, 12948413.00it/s]\n"
          ]
        },
        {
          "name": "stdout",
          "output_type": "stream",
          "text": [
            "Extracting ./cifar-10-python.tar.gz to ./\n",
            "Files already downloaded and verified\n",
            "Files already downloaded and verified\n"
          ]
        }
      ],
      "source": [
        "aug_train_dataset = torchvision.datasets.CIFAR10(root='./', train=True, transform=aug_transform, download=True)\n",
        "train_dataset = torchvision.datasets.CIFAR10(root='./', train=True, transform=transform, download=True)\n",
        "test_dataset = torchvision.datasets.CIFAR10(root='./', train=False, transform=transform, download=True)"
      ]
    },
    {
      "cell_type": "code",
      "execution_count": 22,
      "metadata": {
        "id": "caEsB4ldfP7m"
      },
      "outputs": [],
      "source": [
        "train_loader = torch.utils.data.DataLoader(train_dataset , batch_size = batch_size , shuffle=True, num_workers=2)\n",
        "test_loader =  torch.utils.data.DataLoader(test_dataset , batch_size = batch_size , shuffle=False, num_workers=2)\n",
        "aug_train_loader = torch.utils.data.DataLoader(aug_train_dataset , batch_size = batch_size , shuffle=True, num_workers=2)"
      ]
    },
    {
      "cell_type": "code",
      "execution_count": 6,
      "metadata": {
        "id": "K9TQz84bloTs"
      },
      "outputs": [],
      "source": [
        "# conv module with or without dropout based on dropout_flag\n",
        "\n",
        "class ConvModule(nn.Module):\n",
        "    def __init__(self , dropout_flag , in_channels , out_channels , kernel_size , stride , padding):\n",
        "        super(ConvModule , self).__init__()\n",
        "        self.conv = nn.Conv2d(in_channels , out_channels , kernel_size , stride , padding)\n",
        "        self.dropout_flag = dropout_flag\n",
        "        if dropout_flag:\n",
        "            self.dropout = nn.Dropout(p = 0.5)\n",
        "        self.relu = nn.ReLU()    \n",
        "    def forward(self , input):\n",
        "        output = self.conv(input)\n",
        "        if self.dropout_flag:\n",
        "            output = self.dropout(output)\n",
        "        output = self.relu(output)\n",
        "        return output\n",
        "\n",
        "\n",
        "class InceptionModule(nn.Module):\n",
        "    def __init__(self , dropout_flag , in_channels , Ch1 , Ch3):\n",
        "        super(InceptionModule , self).__init__()\n",
        "        self.branch1 = ConvModule(dropout_flag , in_channels , Ch1 , kernel_size = 1 , stride = 1 , padding = 0)\n",
        "        self.branch2 = ConvModule(dropout_flag , in_channels , Ch3 , kernel_size = 3 , stride = 1 , padding = 1)\n",
        "    def forward(self , input):\n",
        "        branch1 = self.branch1(input)\n",
        "        branch2 = self.branch2(input)\n",
        "        return torch.cat([branch1 , branch2] , 1)\n",
        "\n",
        "\n",
        "class DownSampleModule(nn.Module):\n",
        "    def __init__(self , dropout_flag , in_channels , Ch3):\n",
        "        super(DownSampleModule , self).__init__()\n",
        "        self.branch1 = ConvModule(dropout_flag , in_channels , Ch3 , kernel_size = 3 , stride = 2 , padding = 0)\n",
        "        self.branch2 = nn.MaxPool2d(3 , stride = 2)\n",
        "    def forward(self , input):\n",
        "        branch1 = self.branch1(input)\n",
        "        branch2 = self.branch2(input)\n",
        "        return torch.cat([branch1 , branch2] , 1)\n",
        "\n",
        "\n",
        "class InceptionNet(nn.Module):\n",
        "    def __init__(self , dropout_flag , classes = 10):\n",
        "        super(InceptionNet , self).__init__()\n",
        "        self.conv1 = ConvModule(dropout_flag , in_channels = 3 , out_channels = 96 , kernel_size = 3 , stride = 1 , padding = 0)\n",
        "        self.inception1 = InceptionModule(dropout_flag , in_channels = 96 , Ch1 = 32 , Ch3 = 32)\n",
        "        self.inception2 = InceptionModule(dropout_flag , in_channels = 64 , Ch1 = 32 , Ch3 = 48)\n",
        "        self.downsample1 = DownSampleModule(dropout_flag , in_channels = 80 , Ch3 = 80)\n",
        "        self.inception3 = InceptionModule(dropout_flag , in_channels = 160 , Ch1 = 112 , Ch3 = 48)\n",
        "        self.inception4 = InceptionModule(dropout_flag , in_channels = 160 , Ch1 = 96 , Ch3 = 64)\n",
        "        self.inception5 = InceptionModule(dropout_flag , in_channels = 160 , Ch1 = 80 , Ch3 = 80)\n",
        "        self.inception6 = InceptionModule(dropout_flag , in_channels = 160 , Ch1 = 48 , Ch3 = 96)\n",
        "        self.downsample2 = DownSampleModule(dropout_flag , in_channels = 144 , Ch3 = 96)\n",
        "        self.inception7 = InceptionModule(dropout_flag , in_channels = 240 , Ch1 = 176 , Ch3 = 160)\n",
        "        self.inception8 = InceptionModule(dropout_flag , in_channels = 336 , Ch1 = 176 , Ch3 = 160)\n",
        "        self.mean_pool = nn.AdaptiveAvgPool2d((7 , 7))\n",
        "        self.fc = nn.Linear(16464, classes)\n",
        "    def forward(self , input):\n",
        "        output = self.conv1(input)\n",
        "        output = self.inception1(output)\n",
        "        output = self.inception2(output)\n",
        "        output = self.downsample1(output)\n",
        "        output = self.inception3(output)\n",
        "        output = self.inception4(output)\n",
        "        output = self.inception5(output)\n",
        "        output = self.inception6(output)\n",
        "        output = self.downsample2(output)\n",
        "        output = self.inception7(output)\n",
        "        output = self.inception8(output)\n",
        "        output = self.mean_pool(output)\n",
        "        output = torch.flatten(output,1)\n",
        "        output = self.fc(output)\n",
        "        return output"
      ]
    },
    {
      "cell_type": "code",
      "execution_count": 23,
      "metadata": {
        "id": "m7z9DZtnrX9G"
      },
      "outputs": [],
      "source": [
        "def LabelCorruption(percentage,myloader):\n",
        "    labels = myloader.dataset.targets[:]\n",
        "    data = myloader.dataset.data\n",
        "    num = int(len(labels)*percentage)\n",
        "    idxes = []\n",
        "    if percentage == 1:\n",
        "        idxes = list(range(len(labels)))\n",
        "    while len(idxes) < num:\n",
        "        idx = np.random.randint(0,len(labels))\n",
        "        if idx not in idxes:\n",
        "            idxes.append(idx)\n",
        "    for idx in idxes:\n",
        "        randomLabel = np.random.randint(0,10)\n",
        "        while randomLabel == labels[idx]:\n",
        "            randomLabel = np.random.randint(0,10)\n",
        "        labels[idx] = randomLabel\n",
        "    corrupted_dataset = torchvision.datasets.CIFAR10(root='./', train=True, download=True, transform=transform)\n",
        "    corrupted_dataset.data = data\n",
        "    corrupted_dataset.targets = labels\n",
        "    corrupted_loader = torch.utils.data.DataLoader(dataset=corrupted_dataset, batch_size=batch_size, shuffle=True)\n",
        "    return corrupted_loader"
      ]
    },
    {
      "cell_type": "code",
      "execution_count": 27,
      "metadata": {
        "id": "-SFadnHFZj9X"
      },
      "outputs": [],
      "source": [
        "def get_accuracy(model,data_loader):\n",
        "  model.eval()\n",
        "  correct , total = 0 , 0\n",
        "  for i, data in enumerate(data_loader, 0):\n",
        "    images, labels = data[0].to(device), data[1].to(device)\n",
        "    outputs = model(images)\n",
        "    _, preds = torch.max(outputs, dim=1)\n",
        "    total += labels.size(0)\n",
        "    correct += (preds == labels).sum().item()\n",
        "  return (correct / total)\n",
        "\n",
        "\n",
        "def fit(epoch, model, train_loader, test_loader , weight_decay):\n",
        "\n",
        "    model = model.cuda()\n",
        "\n",
        "    optimizer = torch.optim.SGD(model.parameters(), lr=0.001, momentum=0.9)  \n",
        "    scheduler = torch.optim.lr_scheduler.StepLR(optimizer, 100, gamma=1.0)\n",
        "\n",
        "    criterion = nn.CrossEntropyLoss().to(device)\n",
        "\n",
        "    warmup_epochs = 2\n",
        "    warmup_scheduler = torch.optim.lr_scheduler.StepLR(optimizer, step_size=1, gamma=0.95)\n",
        "\n",
        "    train_acc , test_acc = [] , []\n",
        "\n",
        "    # warmup_o\n",
        "    randomloader = LabelCorruption(0.5,train_loader)\n",
        "    for epoch in range(warmup_epochs):\n",
        "        running_loss = 0.0\n",
        "        correct = 0\n",
        "        total = 0\n",
        "        for i, data in enumerate(randomloader , 0):\n",
        "            inputs, labels = data\n",
        "            inputs, labels = inputs.cuda(), labels.cuda()\n",
        "            # print image shape\n",
        "            # print(inputs.shape)\n",
        "            total += labels.size(0)\n",
        "            optimizer.zero_grad()\n",
        "            outputs = model(inputs)\n",
        "            loss = criterion(outputs, labels)\n",
        "            loss.backward()\n",
        "            optimizer.step()\n",
        "            running_loss += loss.item()\n",
        "            _, predicted = outputs.max(1)\n",
        "            correct += predicted.eq(labels).sum().item()\n",
        "            if i % 100 == 0:\n",
        "                curr_train_acc , curr_test_acc = get_accuracy(model , train_loader) , get_accuracy(model , test_loader)\n",
        "                train_acc.append(curr_train_acc)\n",
        "                test_acc.append(curr_test_acc)\n",
        "        warmup_scheduler.step()\n",
        "\n",
        "    if weight_decay:\n",
        "        optimizer = torch.optim.SGD(model.parameters(), lr=0.001, momentum=0.9 , weight_decay = 0.95)  \n",
        "    \n",
        "    count = 0\n",
        "        \n",
        "    for epoch in range(epoch):  \n",
        "        running_loss = 0.0\n",
        "\n",
        "        for i, data in enumerate(train_loader, 0):\n",
        "          \n",
        "          inputs, labels = data[0].to(device), data[1].to(device)\n",
        "          optimizer.zero_grad()\n",
        "          outputs = model(inputs)\n",
        "          loss = criterion(outputs, labels)\n",
        "          loss.backward()\n",
        "          optimizer.step()\n",
        "\n",
        "          running_loss += loss.item()\n",
        "          count += 1\n",
        "\n",
        "          if count % 1000 == 0:\n",
        "            curr_train_acc , curr_test_acc = get_accuracy(model , train_loader) , get_accuracy(model , test_loader)\n",
        "            model.train()\n",
        "            train_acc.append(curr_train_acc)\n",
        "            test_acc.append(curr_test_acc)\n",
        "\n",
        "        # print(\"Epoch {} | loss: {:.4f} | Train acc: {:.4f} | Val acc: {:.4f}\".format(epoch + 1 , running_loss , curr_train_acc , curr_test_acc))\n",
        "        scheduler.step()\n",
        "    return model,train_acc,test_acc"
      ]
    },
    {
      "cell_type": "code",
      "execution_count": 8,
      "metadata": {
        "id": "Bl0MOi1uf4No"
      },
      "outputs": [],
      "source": [
        "model1 =  InceptionNet(dropout_flag = True)\n",
        "model2 =  InceptionNet(dropout_flag = False)\n",
        "model3 =  InceptionNet(dropout_flag = False)"
      ]
    },
    {
      "cell_type": "code",
      "execution_count": 29,
      "metadata": {
        "colab": {
          "base_uri": "https://localhost:8080/"
        },
        "id": "VlGHpj_Y9zxJ",
        "outputId": "e8fc7633-55ba-43fe-eb8c-153d2530d540"
      },
      "outputs": [
        {
          "name": "stdout",
          "output_type": "stream",
          "text": [
            "Files already downloaded and verified\n"
          ]
        }
      ],
      "source": [
        "# Experiment 1: Data Augmentation , Weight Decay , Dropout\n",
        "\n",
        "AugWdv3model , AugWdtrainacc , AugWdtestacc = fit(100 , model1, aug_train_loader ,test_loader , weight_decay = True)"
      ]
    },
    {
      "cell_type": "code",
      "execution_count": 30,
      "metadata": {
        "colab": {
          "base_uri": "https://localhost:8080/"
        },
        "id": "6uaAfZtH90-w",
        "outputId": "6f12967b-bc5b-40bd-ebd7-027672629e22"
      },
      "outputs": [
        {
          "name": "stdout",
          "output_type": "stream",
          "text": [
            "Files already downloaded and verified\n"
          ]
        }
      ],
      "source": [
        "# Experiment 2: No Data Augmentation , Weight Decay , No Dropout\n",
        "\n",
        "noAugWdv3model , noAugWdtrainacc , noAugWdtestacc = fit(100 , model2 , train_loader , test_loader, weight_decay = True)"
      ]
    },
    {
      "cell_type": "code",
      "execution_count": 28,
      "metadata": {
        "colab": {
          "base_uri": "https://localhost:8080/"
        },
        "id": "n2gCS1C_9150",
        "outputId": "3af20f76-bb65-43c9-a769-fb95ce73f2fc"
      },
      "outputs": [
        {
          "name": "stdout",
          "output_type": "stream",
          "text": [
            "Files already downloaded and verified\n"
          ]
        }
      ],
      "source": [
        "# Experiment 3: No Data Augmentation , No Weight Decay , No Dropout\n",
        "\n",
        "noAugnoWdv3model , noAugnoWdtrainacc , noAugnoWdtestacc = fit(100 , model3 , train_loader ,test_loader, weight_decay = False) "
      ]
    },
    {
      "cell_type": "code",
      "execution_count": 33,
      "metadata": {
        "colab": {
          "base_uri": "https://localhost:8080/",
          "height": 472
        },
        "id": "pIIaErdD1ZID",
        "outputId": "bd5a8888-2359-4e30-bbb7-049cdb9a6d6a"
      },
      "outputs": [
        {
          "data": {
            "image/png": "[encoded data removed]",
            "text/plain": [
              "<Figure size 640x480 with 1 Axes>"
            ]
          },
          "metadata": {},
          "output_type": "display_data"
        }
      ],
      "source": [
        "plt.plot(AugWdtestacc , label='test(w/ aug, wd, dropout)' , color = 'blue')\n",
        "plt.plot(AugWdtrainacc , label='train(w/ aug, wd, dropout)' , alpha = 0.5 , color = 'blue')\n",
        "\n",
        "plt.plot(noAugWdtestacc , label='test(w/o aug, dropout)' , color = 'red')\n",
        "plt.plot(noAugWdtrainacc , label='train(w/o aug, dropout)' , alpha = 0.5 , color = 'red')\n",
        "\n",
        "plt.plot(noAugnoWdtestacc , label='test(w/o aug, wd, dropout)' , color = 'orange')\n",
        "plt.plot(noAugnoWdtrainacc , label='train(w/o aug, wd, dropout)' , alpha = 0.5 , color = 'orange')\n",
        "\n",
        "plt.grid()\n",
        "plt.xlabel('Training Steps')\n",
        "plt.ylabel('Accuracy')\n",
        "plt.title('Inception Small on CIFAR-10 ')\n",
        "plt.legend()\n",
        "plt.show()"
      ]
    },
    {
      "cell_type": "markdown",
      "metadata": {
        "id": "_EkYwWBfwl4k"
      },
      "source": []
    }
  ],
  "metadata": {
    "accelerator": "GPU",
    "colab": {
      "gpuType": "T4",
      "provenance": []
    },
    "gpuClass": "standard",
    "kernelspec": {
      "display_name": "Python 3",
      "language": "python",
      "name": "python3"
    },
    "language_info": {
      "codemirror_mode": {
        "name": "ipython",
        "version": 3
      },
      "file_extension": ".py",
      "mimetype": "text/x-python",
      "name": "python",
      "nbconvert_exporter": "python",
      "pygments_lexer": "ipython3",
      "version": "3.8.10"
    },
    "orig_nbformat": 4
  },
  "nbformat": 4,
  "nbformat_minor": 0
}
