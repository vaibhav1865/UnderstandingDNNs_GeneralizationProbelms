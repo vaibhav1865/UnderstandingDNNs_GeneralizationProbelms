{
  "cells": [
    {
      "cell_type": "code",
      "execution_count": 4,
      "metadata": {
        "execution": {
          "iopub.execute_input": "2023-04-30T20:49:31.174796Z",
          "iopub.status.busy": "2023-04-30T20:49:31.174309Z",
          "iopub.status.idle": "2023-04-30T20:49:41.301419Z",
          "shell.execute_reply": "2023-04-30T20:49:41.300142Z",
          "shell.execute_reply.started": "2023-04-30T20:49:31.174760Z"
        },
        "trusted": true,
        "colab": {
          "base_uri": "https://localhost:8080/"
        },
        "id": "7Ce2Ms_BIN6Z",
        "outputId": "f0e04a5b-4ba1-49c6-deae-883a312d116a"
      },
      "outputs": [
        {
          "output_type": "stream",
          "name": "stdout",
          "text": [
            "Looking in indexes: https://pypi.org/simple, https://us-python.pkg.dev/colab-wheels/public/simple/\n",
            "Requirement already satisfied: torchsummary in /usr/local/lib/python3.10/dist-packages (1.5.1)\n"
          ]
        }
      ],
      "source": [
        "import torch\n",
        "import torch.nn as nn\n",
        "import torch.nn.functional as F\n",
        "import torch.optim as optim\n",
        "import torchvision\n",
        "import torchvision.transforms as transforms\n",
        "import matplotlib.pyplot as plt\n",
        "import numpy as np\n",
        "import time\n",
        "!pip install torchsummary\n",
        "\n",
        "from torchsummary import summary\n",
        "from tqdm import tqdm\n",
        "import tensorflow\n",
        "import tensorflow as tf\n",
        "from sklearn.metrics import accuracy_score\n",
        "from torchvision import models\n",
        "import pickle\n",
        "import json"
      ]
    },
    {
      "cell_type": "code",
      "execution_count": null,
      "metadata": {
        "colab": {
          "base_uri": "https://localhost:8080/"
        },
        "id": "ZBUFZP13IN6c",
        "outputId": "90ad8703-7849-4458-b717-e8e8968b063b"
      },
      "outputs": [
        {
          "output_type": "stream",
          "name": "stdout",
          "text": [
            "cuda\n",
            "Downloading https://www.cs.toronto.edu/~kriz/cifar-10-python.tar.gz to ./cifar-10-python.tar.gz\n"
          ]
        },
        {
          "output_type": "stream",
          "name": "stderr",
          "text": [
            "100%|██████████| 170498071/170498071 [00:03<00:00, 48966504.70it/s]\n"
          ]
        },
        {
          "output_type": "stream",
          "name": "stdout",
          "text": [
            "Extracting ./cifar-10-python.tar.gz to ./\n"
          ]
        }
      ],
      "source": [
        "\n",
        "device = torch.device('cuda' if torch.cuda.is_available() else 'cpu')\n",
        "print(device)\n",
        "# Hyper-parameter\n",
        "batch_size = 64\n",
        "#  CIFAR-10 dataset\n",
        "transform = transforms.Compose([transforms.ToTensor(),transforms.CenterCrop(28),transforms.Normalize((0.5, 0.5, 0.5), (0.5, 0.5, 0.5))])\n",
        "train_dataset = torchvision.datasets.CIFAR10(root='./', train=True, download=True, transform=transform)\n",
        "test_dataset = torchvision.datasets.CIFAR10(root='./', train=False, transform=transform)\n",
        "\n",
        "\n",
        "\n",
        "train_loader = torch.utils.data.DataLoader(dataset=train_dataset, batch_size=batch_size, shuffle=True)\n",
        "test_loader = torch.utils.data.DataLoader(dataset=test_dataset, batch_size=batch_size, shuffle=False)\n",
        "\n",
        "\n",
        "\n",
        "\n",
        "# preImage whitening function of tensorflow\n",
        "\n",
        "\n"
      ]
    },
    {
      "cell_type": "code",
      "execution_count": null,
      "metadata": {
        "execution": {
          "iopub.execute_input": "2023-04-30T20:46:49.792897Z",
          "iopub.status.busy": "2023-04-30T20:46:49.792233Z",
          "iopub.status.idle": "2023-04-30T20:46:49.812441Z",
          "shell.execute_reply": "2023-04-30T20:46:49.811514Z",
          "shell.execute_reply.started": "2023-04-30T20:46:49.792861Z"
        },
        "trusted": true,
        "id": "uS-BJzORIN6d"
      },
      "outputs": [],
      "source": [
        "class ConvModule(nn.Module):\n",
        "    def __init__(self, in_channels, out_channels, kernel_size, stride, padding):\n",
        "        super(ConvModule, self).__init__()\n",
        "        self.conv = nn.Conv2d(in_channels, out_channels, kernel_size, stride, padding)\n",
        "        self.bn = nn.BatchNorm2d(out_channels)\n",
        "        self.relu = nn.ReLU(True)\n",
        "\n",
        "    def forward(self, x):\n",
        "        out = self.conv(x)\n",
        "        out = self.bn(out)\n",
        "        out = self.relu(out)\n",
        "        return out\n",
        "    \n",
        "\n",
        "class InceptionModule(nn.Module):\n",
        "    def __init__(self, in_channels, Ch1x1 , Ch3x3):\n",
        "        super(InceptionModule, self).__init__()\n",
        "        self.branch1 = ConvModule(in_channels, Ch1x1, kernel_size=1, stride=1, padding=0)\n",
        "        self.branch2 = ConvModule(in_channels, Ch3x3, kernel_size=3, stride=1, padding=1)\n",
        "    def forward(self, x):\n",
        "        branch1 = self.branch1(x)\n",
        "        branch2 = self.branch2(x)\n",
        "        return torch.cat([branch1, branch2], 1)\n",
        "    \n",
        "class DownsampleModule(nn.Module):\n",
        "    def __init__(self, in_channels, Ch3x3):\n",
        "        super(DownsampleModule, self).__init__()\n",
        "        self.branch1 = ConvModule(in_channels, Ch3x3, kernel_size=3, stride=2, padding=0)\n",
        "        self.branch2 = nn.MaxPool2d(3, stride=2)\n",
        "    def forward(self, x):\n",
        "        branch1 = self.branch1(x)\n",
        "        branch2 = self.branch2(x)\n",
        "        return torch.cat([branch1, branch2], 1)\n",
        "\n",
        "class InceptionNet(nn.Module):\n",
        "    def __init__(self, classes=10):\n",
        "        super(InceptionNet, self).__init__()\n",
        "        self.conv1 = ConvModule(in_channels=3, out_channels=96 , kernel_size=3, stride=1, padding=0)\n",
        "        self.inception1 = InceptionModule(in_channels=96, Ch1x1=32 , Ch3x3=32)\n",
        "        self.inception2 = InceptionModule(in_channels=64, Ch1x1=32 , Ch3x3=48)\n",
        "        self.downsample1 = DownsampleModule(in_channels=80, Ch3x3=80)\n",
        "        self.inception3 = InceptionModule(in_channels=160, Ch1x1=112 , Ch3x3=48)\n",
        "        self.inception4 = InceptionModule(in_channels=160, Ch1x1=96 , Ch3x3=64)\n",
        "        self.inception5 = InceptionModule(in_channels=160, Ch1x1=80 , Ch3x3=80)\n",
        "        self.inception6 = InceptionModule(in_channels=160, Ch1x1=48 , Ch3x3=96)\n",
        "        self.downsample2 = DownsampleModule(in_channels=144, Ch3x3=96)\n",
        "        self.inception7 = InceptionModule(in_channels=240, Ch1x1=176 , Ch3x3=160)\n",
        "        self.inception8 = InceptionModule(in_channels=336, Ch1x1=176 , Ch3x3=160)\n",
        "        self.mean_pool = nn.AdaptiveAvgPool2d((7 , 7))\n",
        "        self.fc = nn.Linear(16464, classes)\n",
        "    def forward(self, x):\n",
        "        out = self.conv1(x)\n",
        "        out = self.inception1(out)\n",
        "        out = self.inception2(out)\n",
        "        out = self.downsample1(out)\n",
        "        out = self.inception3(out)\n",
        "        out = self.inception4(out)\n",
        "        out = self.inception5(out)\n",
        "        out = self.inception6(out)\n",
        "        out = self.downsample2(out)\n",
        "        out = self.inception7(out)\n",
        "        out = self.inception8(out)\n",
        "        out = self.mean_pool(out)\n",
        "        out = out.reshape(out.size(0), -1)\n",
        "        out = self.fc(out)\n",
        "        return out"
      ]
    },
    {
      "cell_type": "code",
      "execution_count": null,
      "metadata": {
        "execution": {
          "iopub.execute_input": "2023-04-30T21:07:55.072208Z",
          "iopub.status.busy": "2023-04-30T21:07:55.071228Z",
          "iopub.status.idle": "2023-04-30T21:07:55.080242Z",
          "shell.execute_reply": "2023-04-30T21:07:55.078931Z",
          "shell.execute_reply.started": "2023-04-30T21:07:55.072123Z"
        },
        "trusted": true,
        "id": "pkoBq6jiIN6f"
      },
      "outputs": [],
      "source": [
        "\n",
        "\n",
        "class MLP1x512(nn.Module):\n",
        "    def __init__(self, num_classes=10):\n",
        "        super(MLP1x512, self).__init__()\n",
        "        self.fc1 = nn.Linear(28 * 28 * 3, 512)\n",
        "        self.fc2 = nn.Linear(512, num_classes)\n",
        "        self.relu = nn.ReLU()\n",
        "\n",
        "    def forward(self, x):\n",
        "        x = x.view(x.size(0), -1)\n",
        "        x = self.fc1(x)\n",
        "        x = self.relu(x)\n",
        "        x = self.fc2(x)\n",
        "        return x\n",
        "    \n",
        "# summary(MLP1x512().to(device),(3,28,28))"
      ]
    },
    {
      "cell_type": "markdown",
      "metadata": {
        "id": "VFn8HLWZIN6g"
      },
      "source": []
    },
    {
      "cell_type": "code",
      "execution_count": null,
      "metadata": {
        "execution": {
          "iopub.execute_input": "2023-04-30T20:52:55.718369Z",
          "iopub.status.busy": "2023-04-30T20:52:55.717394Z",
          "iopub.status.idle": "2023-04-30T20:53:04.297354Z",
          "shell.execute_reply": "2023-04-30T20:53:04.295894Z",
          "shell.execute_reply.started": "2023-04-30T20:52:55.718310Z"
        },
        "trusted": true,
        "colab": {
          "base_uri": "https://localhost:8080/"
        },
        "id": "h3UmxVXaIN6g",
        "outputId": "7db1372c-c958-4c72-fbd1-04a9a4c4ccf8"
      },
      "outputs": [
        {
          "output_type": "stream",
          "name": "stdout",
          "text": [
            "----------------------------------------------------------------\n",
            "        Layer (type)               Output Shape         Param #\n",
            "================================================================\n",
            "            Conv2d-1           [-1, 64, 28, 28]           4,864\n",
            "              ReLU-2           [-1, 64, 28, 28]               0\n",
            "         MaxPool2d-3           [-1, 64, 13, 13]               0\n",
            " LocalResponseNorm-4           [-1, 64, 13, 13]               0\n",
            "              Conv-5           [-1, 64, 13, 13]               0\n",
            "            Conv2d-6           [-1, 64, 13, 13]         102,464\n",
            "              ReLU-7           [-1, 64, 13, 13]               0\n",
            "         MaxPool2d-8             [-1, 64, 6, 6]               0\n",
            " LocalResponseNorm-9             [-1, 64, 6, 6]               0\n",
            "             Conv-10             [-1, 64, 6, 6]               0\n",
            "           Linear-11                  [-1, 384]         885,120\n",
            "             ReLU-12                  [-1, 384]               0\n",
            "           Linear-13                  [-1, 192]          73,920\n",
            "             ReLU-14                  [-1, 192]               0\n",
            "           Linear-15                   [-1, 10]           1,930\n",
            "================================================================\n",
            "Total params: 1,068,298\n",
            "Trainable params: 1,068,298\n",
            "Non-trainable params: 0\n",
            "----------------------------------------------------------------\n",
            "Input size (MB): 0.01\n",
            "Forward/backward pass size (MB): 1.24\n",
            "Params size (MB): 4.08\n",
            "Estimated Total Size (MB): 5.32\n",
            "----------------------------------------------------------------\n"
          ]
        }
      ],
      "source": [
        "\n",
        "class Conv(nn.Module):\n",
        "    def __init__(self, in_channels, out_channels, kernel_size, stride=1, padding=0):\n",
        "        super(Conv, self).__init__()\n",
        "        self.conv = nn.Conv2d(in_channels=in_channels, out_channels=out_channels, kernel_size=kernel_size,stride=stride, padding=padding)\n",
        "        self.relu = nn.ReLU()\n",
        "        self.maxpool = nn.MaxPool2d(kernel_size=3, stride=2)\n",
        "        self.lrn = nn.LocalResponseNorm(size=5, alpha=0.0001, beta=0.75, k=2)\n",
        "\n",
        "    def forward(self, x):\n",
        "        x = self.conv(x)\n",
        "        x = self.relu(x)\n",
        "        x = self.maxpool(x)\n",
        "        x = self.lrn(x)\n",
        "        return x\n",
        "\n",
        "class AlexNetSmall(nn.Module):\n",
        "    def __init__(self, num_classes=10):\n",
        "        super(AlexNetSmall, self).__init__()\n",
        "        self.conv1 = Conv(in_channels=3, out_channels=64, kernel_size=5, stride=1, padding=2)\n",
        "        self.conv2 = Conv(in_channels=64, out_channels=64, kernel_size=5, stride=1, padding=2)\n",
        "        self.fc1 = nn.Linear(64 * 6 * 6, 384)\n",
        "        self.fc2 = nn.Linear(384, 192)\n",
        "        self.fc3 = nn.Linear(192, num_classes)\n",
        "        self.relu = nn.ReLU()\n",
        "        \n",
        "    def forward(self, x):\n",
        "        x = self.conv1(x)\n",
        "        x = self.conv2(x)\n",
        "        x = x.view(x.size(0), -1)\n",
        "        x = self.fc1(x)\n",
        "        x = self.relu(x)\n",
        "        x = self.fc2(x)\n",
        "        x = self.relu(x)\n",
        "        x = self.fc3(x)\n",
        "        return x\n",
        "    \n",
        "\n",
        "model = AlexNetSmall().to(device)\n",
        "summary(model,(3,28,28))"
      ]
    },
    {
      "cell_type": "code",
      "execution_count": null,
      "metadata": {
        "execution": {
          "iopub.execute_input": "2023-04-30T20:53:50.667692Z",
          "iopub.status.busy": "2023-04-30T20:53:50.666974Z",
          "iopub.status.idle": "2023-04-30T20:53:50.676111Z",
          "shell.execute_reply": "2023-04-30T20:53:50.674962Z",
          "shell.execute_reply.started": "2023-04-30T20:53:50.667650Z"
        },
        "trusted": true,
        "id": "K7djKKXJIN6k"
      },
      "outputs": [],
      "source": [
        "def LabelCorruption(percentage,myloader):\n",
        "    labels = myloader.dataset.targets[:]\n",
        "    data = myloader.dataset.data\n",
        "#     print(data.shape)\n",
        "    num = int(len(labels)*percentage)\n",
        "    idxes = []\n",
        "    # generate unique random index\n",
        "    while len(idxes) < num:\n",
        "        idx = np.random.randint(0,len(labels))\n",
        "        if idx not in idxes:\n",
        "            idxes.append(idx)\n",
        "    # change the label of the index\n",
        "    for idx in idxes:\n",
        "        randomLabel = np.random.randint(0,10)\n",
        "        while randomLabel == labels[idx]:\n",
        "            randomLabel = np.random.randint(0,10)\n",
        "        labels[idx] = randomLabel\n",
        "    \n",
        "    corrupted_dataset = torchvision.datasets.CIFAR10(root='./', train=True, download=True, transform=transform)\n",
        "    corrupted_dataset.data = data\n",
        "    corrupted_dataset.targets = labels\n",
        "    corrupted_loader = torch.utils.data.DataLoader(dataset=corrupted_dataset, batch_size=batch_size, shuffle=True)\n",
        "    return corrupted_loader\n",
        "\n",
        "\n"
      ]
    },
    {
      "cell_type": "code",
      "execution_count": null,
      "metadata": {
        "execution": {
          "iopub.execute_input": "2023-04-30T21:08:35.256097Z",
          "iopub.status.busy": "2023-04-30T21:08:35.255692Z",
          "iopub.status.idle": "2023-04-30T21:08:35.267887Z",
          "shell.execute_reply": "2023-04-30T21:08:35.266796Z",
          "shell.execute_reply.started": "2023-04-30T21:08:35.256063Z"
        },
        "trusted": true,
        "id": "-sBSVJOkIN6l"
      },
      "outputs": [],
      "source": [
        "def trainmodel(epochs=10,train_loader=train_loader,lr=0.001,corruption=0, modelName=\"Alexnet\"):\n",
        "    model = None\n",
        "    if modelName == \"Alexnet\":\n",
        "        model = AlexNetSmall()\n",
        "    elif modelName == \"Inception\":\n",
        "        model = InceptionNet()\n",
        "    elif modelName == \"MLP\":\n",
        "        model = MLP1x512()\n",
        "\n",
        "    model.to(device)\n",
        "    criterion = nn.CrossEntropyLoss()\n",
        "    optimizer = optim.SGD(model.parameters(), lr=lr, momentum=0.9)\n",
        "    train_loss = []\n",
        "    train_acc = []\n",
        "    if corruption>0:\n",
        "        train_loader = LabelCorruption(percentage=corruption,myloader=train_loader)\n",
        "    time1 = time.time()\n",
        "    for epoch in range(epochs):\n",
        "        model.train()\n",
        "        running_loss = 0.0\n",
        "        running_acc = 0.0\n",
        "        for i, (images, labels) in enumerate(tqdm(train_loader)):\n",
        "            images = images.to(device)\n",
        "            labels = labels.to(device)\n",
        "            # Forward pass\n",
        "#             print(images.size())\n",
        "            outputs = model(images)\n",
        "            loss = criterion(outputs, labels)\n",
        "            # Backward and optimize\n",
        "            optimizer.zero_grad()\n",
        "            loss.backward()\n",
        "            optimizer.step()\n",
        "            # Compute accuracy\n",
        "            _, argmax = torch.max(outputs, 1)\n",
        "            accuracy = (labels == argmax.squeeze()).float().mean()\n",
        "            running_acc += accuracy / len(train_loader)\n",
        "            running_loss += loss / len(train_loader)\n",
        "        train_loss.append(float(running_loss))\n",
        "        train_acc.append(float(running_acc))\n",
        "        # print(\"Epoch:\" , epoch , \"Train Loss\" , running_loss , \"Test Loss\" , test_loss , \"Train Accuracy\" , running_acc , \"Test Accuracy\" , test_acc)\n",
        "    time2 = time.time()\n",
        "    timetaken = time2-time1\n",
        "    return train_loss, train_acc , model,timetaken\n"
      ]
    },
    {
      "cell_type": "code",
      "execution_count": null,
      "metadata": {
        "execution": {
          "iopub.status.busy": "2023-04-30T21:00:05.433660Z",
          "iopub.status.idle": "2023-04-30T21:00:05.434830Z",
          "shell.execute_reply": "2023-04-30T21:00:05.434596Z",
          "shell.execute_reply.started": "2023-04-30T21:00:05.434569Z"
        },
        "trusted": true,
        "colab": {
          "base_uri": "https://localhost:8080/"
        },
        "id": "LWETk6UbIN6n",
        "outputId": "2431f0d0-2b08-4f34-9f7d-9f2c64896a3a"
      },
      "outputs": [
        {
          "output_type": "stream",
          "name": "stdout",
          "text": [
            "Files already downloaded and verified\n"
          ]
        },
        {
          "output_type": "stream",
          "name": "stderr",
          "text": [
            "100%|██████████| 782/782 [00:27<00:00, 28.69it/s]\n",
            "100%|██████████| 782/782 [00:20<00:00, 38.01it/s]\n",
            "100%|██████████| 782/782 [00:21<00:00, 37.19it/s]\n",
            "100%|██████████| 782/782 [00:21<00:00, 36.56it/s]\n",
            "100%|██████████| 782/782 [00:21<00:00, 36.81it/s]\n",
            "100%|██████████| 782/782 [00:21<00:00, 36.10it/s]\n",
            "100%|██████████| 782/782 [00:20<00:00, 38.65it/s]\n",
            "100%|██████████| 782/782 [00:20<00:00, 37.72it/s]\n",
            "100%|██████████| 782/782 [00:20<00:00, 37.36it/s]\n",
            "100%|██████████| 782/782 [00:20<00:00, 38.58it/s]\n"
          ]
        },
        {
          "output_type": "stream",
          "name": "stdout",
          "text": [
            "Model  Alexnet Percentage of corruption:  0.1 Time taken:  215.57692289352417 Train Accuracy:  0.4713069498538971 Train Loss:  1.5727667808532715\n",
            "Files already downloaded and verified\n"
          ]
        },
        {
          "output_type": "stream",
          "name": "stderr",
          "text": [
            "100%|██████████| 782/782 [00:21<00:00, 36.85it/s]\n",
            "100%|██████████| 782/782 [00:21<00:00, 36.66it/s]\n",
            "100%|██████████| 782/782 [00:20<00:00, 38.99it/s]\n",
            "100%|██████████| 782/782 [00:21<00:00, 37.11it/s]\n",
            "100%|██████████| 782/782 [00:21<00:00, 36.67it/s]\n",
            "100%|██████████| 782/782 [00:20<00:00, 38.80it/s]\n",
            "100%|██████████| 782/782 [00:21<00:00, 36.58it/s]\n",
            "100%|██████████| 782/782 [00:20<00:00, 37.43it/s]\n",
            "100%|██████████| 782/782 [00:20<00:00, 38.78it/s]\n",
            "100%|██████████| 782/782 [00:21<00:00, 36.50it/s]\n"
          ]
        },
        {
          "output_type": "stream",
          "name": "stdout",
          "text": [
            "Model  Alexnet Percentage of corruption:  0.2 Time taken:  209.2530379295349 Train Accuracy:  0.40345239639282227 Train Loss:  1.7959039211273193\n",
            "Files already downloaded and verified\n"
          ]
        },
        {
          "output_type": "stream",
          "name": "stderr",
          "text": [
            "100%|██████████| 782/782 [00:20<00:00, 38.35it/s]\n",
            "100%|██████████| 782/782 [00:20<00:00, 38.85it/s]\n",
            "100%|██████████| 782/782 [00:21<00:00, 36.62it/s]\n",
            "100%|██████████| 782/782 [00:20<00:00, 37.87it/s]\n",
            "100%|██████████| 782/782 [00:20<00:00, 38.56it/s]\n",
            "100%|██████████| 782/782 [00:21<00:00, 36.41it/s]\n",
            "100%|██████████| 782/782 [00:21<00:00, 37.20it/s]\n",
            "100%|██████████| 782/782 [00:21<00:00, 36.70it/s]\n",
            "100%|██████████| 782/782 [00:20<00:00, 37.65it/s]\n",
            "100%|██████████| 782/782 [00:21<00:00, 36.68it/s]\n"
          ]
        },
        {
          "output_type": "stream",
          "name": "stdout",
          "text": [
            "Model  Alexnet Percentage of corruption:  0.3 Time taken:  208.96322655677795 Train Accuracy:  0.3373161256313324 Train Loss:  1.967991828918457\n",
            "Files already downloaded and verified\n"
          ]
        },
        {
          "output_type": "stream",
          "name": "stderr",
          "text": [
            "100%|██████████| 782/782 [00:21<00:00, 36.12it/s]\n",
            "100%|██████████| 782/782 [00:21<00:00, 36.40it/s]\n",
            "100%|██████████| 782/782 [00:20<00:00, 38.25it/s]\n",
            "100%|██████████| 782/782 [00:22<00:00, 35.22it/s]\n",
            "100%|██████████| 782/782 [00:21<00:00, 36.77it/s]\n",
            "100%|██████████| 782/782 [00:20<00:00, 38.11it/s]\n",
            "100%|██████████| 782/782 [00:21<00:00, 35.73it/s]\n",
            "100%|██████████| 782/782 [00:21<00:00, 37.09it/s]\n",
            "100%|██████████| 782/782 [00:21<00:00, 36.60it/s]\n",
            "100%|██████████| 782/782 [00:21<00:00, 37.14it/s]\n"
          ]
        },
        {
          "output_type": "stream",
          "name": "stdout",
          "text": [
            "Model  Alexnet Percentage of corruption:  0.4 Time taken:  213.20202493667603 Train Accuracy:  0.2736571133136749 Train Loss:  2.100090980529785\n",
            "Files already downloaded and verified\n"
          ]
        },
        {
          "output_type": "stream",
          "name": "stderr",
          "text": [
            "100%|██████████| 782/782 [00:20<00:00, 37.29it/s]\n",
            "100%|██████████| 782/782 [00:22<00:00, 35.48it/s]\n",
            "100%|██████████| 782/782 [00:21<00:00, 35.56it/s]\n",
            "100%|██████████| 782/782 [00:21<00:00, 35.82it/s]\n",
            "100%|██████████| 782/782 [00:21<00:00, 35.86it/s]\n",
            "100%|██████████| 782/782 [00:21<00:00, 35.83it/s]\n",
            "100%|██████████| 782/782 [00:21<00:00, 36.23it/s]\n",
            "100%|██████████| 782/782 [00:22<00:00, 34.50it/s]\n",
            "100%|██████████| 782/782 [00:20<00:00, 37.72it/s]\n",
            "100%|██████████| 782/782 [00:21<00:00, 35.93it/s]\n"
          ]
        },
        {
          "output_type": "stream",
          "name": "stdout",
          "text": [
            "Model  Alexnet Percentage of corruption:  0.5 Time taken:  217.47523474693298 Train Accuracy:  0.22898007929325104 Train Loss:  2.184000015258789\n",
            "Files already downloaded and verified\n"
          ]
        },
        {
          "output_type": "stream",
          "name": "stderr",
          "text": [
            "100%|██████████| 782/782 [00:21<00:00, 37.12it/s]\n",
            "100%|██████████| 782/782 [00:21<00:00, 37.15it/s]\n",
            "100%|██████████| 782/782 [00:21<00:00, 35.71it/s]\n",
            "100%|██████████| 782/782 [00:20<00:00, 38.14it/s]\n",
            "100%|██████████| 782/782 [00:20<00:00, 37.37it/s]\n",
            "100%|██████████| 782/782 [00:22<00:00, 35.30it/s]\n",
            "100%|██████████| 782/782 [00:21<00:00, 36.46it/s]\n",
            "100%|██████████| 782/782 [00:20<00:00, 37.38it/s]\n",
            "100%|██████████| 782/782 [00:21<00:00, 35.55it/s]\n",
            "100%|██████████| 782/782 [00:21<00:00, 36.74it/s]\n"
          ]
        },
        {
          "output_type": "stream",
          "name": "stdout",
          "text": [
            "Model  Alexnet Percentage of corruption:  0.6 Time taken:  213.5008361339569 Train Accuracy:  0.1800072342157364 Train Loss:  2.2496557235717773\n",
            "Files already downloaded and verified\n"
          ]
        },
        {
          "output_type": "stream",
          "name": "stderr",
          "text": [
            "100%|██████████| 782/782 [00:22<00:00, 35.41it/s]\n",
            "100%|██████████| 782/782 [00:21<00:00, 36.71it/s]\n",
            "100%|██████████| 782/782 [00:21<00:00, 36.67it/s]\n",
            "100%|██████████| 782/782 [00:21<00:00, 36.46it/s]\n",
            "100%|██████████| 782/782 [00:21<00:00, 36.53it/s]\n",
            "100%|██████████| 782/782 [00:21<00:00, 36.42it/s]\n",
            "100%|██████████| 782/782 [00:21<00:00, 36.60it/s]\n",
            "100%|██████████| 782/782 [00:21<00:00, 36.98it/s]\n",
            "100%|██████████| 782/782 [00:21<00:00, 35.67it/s]\n",
            "100%|██████████| 782/782 [00:21<00:00, 36.14it/s]\n"
          ]
        },
        {
          "output_type": "stream",
          "name": "stdout",
          "text": [
            "Model  Alexnet Percentage of corruption:  0.7 Time taken:  215.37031054496765 Train Accuracy:  0.1447010189294815 Train Loss:  2.2870700359344482\n",
            "Files already downloaded and verified\n"
          ]
        },
        {
          "output_type": "stream",
          "name": "stderr",
          "text": [
            "100%|██████████| 782/782 [00:21<00:00, 36.86it/s]\n",
            "100%|██████████| 782/782 [00:22<00:00, 35.42it/s]\n",
            "100%|██████████| 782/782 [00:20<00:00, 37.27it/s]\n",
            "100%|██████████| 782/782 [00:21<00:00, 36.24it/s]\n",
            "100%|██████████| 782/782 [00:20<00:00, 37.68it/s]\n",
            "100%|██████████| 782/782 [00:21<00:00, 37.17it/s]\n",
            "100%|██████████| 782/782 [00:21<00:00, 36.38it/s]\n",
            "100%|██████████| 782/782 [00:20<00:00, 37.25it/s]\n",
            "100%|██████████| 782/782 [00:21<00:00, 36.74it/s]\n",
            "100%|██████████| 782/782 [00:22<00:00, 35.46it/s]\n"
          ]
        },
        {
          "output_type": "stream",
          "name": "stdout",
          "text": [
            "Model  Alexnet Percentage of corruption:  0.8 Time taken:  213.71356558799744 Train Accuracy:  0.1131313294172287 Train Loss:  2.3012402057647705\n",
            "Files already downloaded and verified\n"
          ]
        },
        {
          "output_type": "stream",
          "name": "stderr",
          "text": [
            "100%|██████████| 782/782 [00:21<00:00, 36.78it/s]\n",
            "100%|██████████| 782/782 [00:22<00:00, 35.44it/s]\n",
            "100%|██████████| 782/782 [00:21<00:00, 36.82it/s]\n",
            "100%|██████████| 782/782 [00:21<00:00, 36.99it/s]\n",
            "100%|██████████| 782/782 [00:22<00:00, 34.97it/s]\n",
            "100%|██████████| 782/782 [00:21<00:00, 36.70it/s]\n",
            "100%|██████████| 782/782 [00:21<00:00, 37.15it/s]\n",
            "100%|██████████| 782/782 [00:21<00:00, 36.28it/s]\n",
            "100%|██████████| 782/782 [00:21<00:00, 36.50it/s]\n",
            "100%|██████████| 782/782 [00:21<00:00, 35.84it/s]\n"
          ]
        },
        {
          "output_type": "stream",
          "name": "stdout",
          "text": [
            "Model  Alexnet Percentage of corruption:  0.9 Time taken:  215.4880542755127 Train Accuracy:  0.10553853958845139 Train Loss:  2.302250862121582\n",
            "Files already downloaded and verified\n"
          ]
        },
        {
          "output_type": "stream",
          "name": "stderr",
          "text": [
            "100%|██████████| 782/782 [00:21<00:00, 36.20it/s]\n",
            "100%|██████████| 782/782 [00:22<00:00, 34.73it/s]\n",
            "100%|██████████| 782/782 [00:21<00:00, 36.32it/s]\n",
            "100%|██████████| 782/782 [00:20<00:00, 38.02it/s]\n",
            "100%|██████████| 782/782 [00:21<00:00, 35.59it/s]\n",
            "100%|██████████| 782/782 [00:21<00:00, 37.09it/s]\n",
            "100%|██████████| 782/782 [00:21<00:00, 36.94it/s]\n",
            "100%|██████████| 782/782 [00:21<00:00, 36.68it/s]\n",
            "100%|██████████| 782/782 [00:21<00:00, 36.72it/s]\n",
            "100%|██████████| 782/782 [00:21<00:00, 35.67it/s]\n"
          ]
        },
        {
          "output_type": "stream",
          "name": "stdout",
          "text": [
            "Model  Alexnet Percentage of corruption:  1.0 Time taken:  215.23339319229126 Train Accuracy:  0.10945473611354828 Train Loss:  2.300926923751831\n",
            "Files already downloaded and verified\n"
          ]
        },
        {
          "output_type": "stream",
          "name": "stderr",
          "text": [
            "100%|██████████| 782/782 [00:26<00:00, 29.53it/s]\n",
            "100%|██████████| 782/782 [00:26<00:00, 29.63it/s]\n",
            "100%|██████████| 782/782 [00:27<00:00, 28.77it/s]\n",
            "100%|██████████| 782/782 [00:26<00:00, 29.86it/s]\n",
            "100%|██████████| 782/782 [00:27<00:00, 28.19it/s]\n",
            "100%|██████████| 782/782 [00:26<00:00, 29.45it/s]\n",
            "100%|██████████| 782/782 [00:27<00:00, 28.86it/s]\n",
            "100%|██████████| 782/782 [00:26<00:00, 29.86it/s]\n",
            "100%|██████████| 782/782 [00:26<00:00, 29.02it/s]\n",
            "100%|██████████| 782/782 [00:26<00:00, 29.82it/s]\n"
          ]
        },
        {
          "output_type": "stream",
          "name": "stdout",
          "text": [
            "Model  Inception Percentage of corruption:  0.1 Time taken:  267.5152018070221 Train Accuracy:  0.9416963458061218 Train Loss:  0.19799284636974335\n",
            "Files already downloaded and verified\n"
          ]
        },
        {
          "output_type": "stream",
          "name": "stderr",
          "text": [
            "100%|██████████| 782/782 [00:27<00:00, 28.75it/s]\n",
            "100%|██████████| 782/782 [00:26<00:00, 28.97it/s]\n",
            "100%|██████████| 782/782 [00:26<00:00, 29.30it/s]\n",
            "100%|██████████| 782/782 [00:27<00:00, 28.91it/s]\n",
            "100%|██████████| 782/782 [00:26<00:00, 29.61it/s]\n",
            "100%|██████████| 782/782 [00:27<00:00, 27.99it/s]\n",
            "100%|██████████| 782/782 [00:26<00:00, 29.16it/s]\n",
            "100%|██████████| 782/782 [00:27<00:00, 28.33it/s]\n",
            "100%|██████████| 782/782 [00:26<00:00, 29.31it/s]\n",
            "100%|██████████| 782/782 [00:27<00:00, 28.84it/s]\n"
          ]
        },
        {
          "output_type": "stream",
          "name": "stdout",
          "text": [
            "Model  Inception Percentage of corruption:  0.2 Time taken:  271.01886010169983 Train Accuracy:  0.8677866458892822 Train Loss:  0.4219377338886261\n",
            "Files already downloaded and verified\n"
          ]
        },
        {
          "output_type": "stream",
          "name": "stderr",
          "text": [
            "100%|██████████| 782/782 [00:26<00:00, 29.42it/s]\n",
            "100%|██████████| 782/782 [00:26<00:00, 29.68it/s]\n",
            "100%|██████████| 782/782 [00:26<00:00, 29.77it/s]\n",
            "100%|██████████| 782/782 [00:26<00:00, 29.96it/s]\n",
            "100%|██████████| 782/782 [00:26<00:00, 29.24it/s]\n",
            "100%|██████████| 782/782 [00:25<00:00, 30.16it/s]\n",
            "100%|██████████| 782/782 [00:27<00:00, 28.29it/s]\n",
            "100%|██████████| 782/782 [00:26<00:00, 29.95it/s]\n",
            "100%|██████████| 782/782 [00:26<00:00, 29.26it/s]\n",
            "100%|██████████| 782/782 [00:26<00:00, 30.04it/s]\n"
          ]
        },
        {
          "output_type": "stream",
          "name": "stdout",
          "text": [
            "Model  Inception Percentage of corruption:  0.3 Time taken:  265.0254943370819 Train Accuracy:  0.7080397009849548 Train Loss:  0.9047900438308716\n",
            "Files already downloaded and verified\n"
          ]
        },
        {
          "output_type": "stream",
          "name": "stderr",
          "text": [
            "100%|██████████| 782/782 [00:26<00:00, 29.43it/s]\n",
            "100%|██████████| 782/782 [00:26<00:00, 29.47it/s]\n",
            "100%|██████████| 782/782 [00:26<00:00, 29.49it/s]\n",
            "100%|██████████| 782/782 [00:27<00:00, 28.85it/s]\n",
            "100%|██████████| 782/782 [00:26<00:00, 29.26it/s]\n",
            "100%|██████████| 782/782 [00:27<00:00, 28.26it/s]\n",
            "100%|██████████| 782/782 [00:26<00:00, 29.25it/s]\n",
            "100%|██████████| 782/782 [00:27<00:00, 28.19it/s]\n",
            "100%|██████████| 782/782 [00:26<00:00, 29.57it/s]\n",
            "100%|██████████| 782/782 [00:27<00:00, 28.40it/s]\n"
          ]
        },
        {
          "output_type": "stream",
          "name": "stdout",
          "text": [
            "Model  Inception Percentage of corruption:  0.4 Time taken:  270.14671206474304 Train Accuracy:  0.6058177947998047 Train Loss:  1.1937824487686157\n",
            "Files already downloaded and verified\n"
          ]
        },
        {
          "output_type": "stream",
          "name": "stderr",
          "text": [
            "100%|██████████| 782/782 [00:27<00:00, 28.88it/s]\n",
            "100%|██████████| 782/782 [00:27<00:00, 28.48it/s]\n",
            "100%|██████████| 782/782 [00:26<00:00, 29.25it/s]\n",
            "100%|██████████| 782/782 [00:26<00:00, 29.01it/s]\n",
            "100%|██████████| 782/782 [00:27<00:00, 28.95it/s]\n",
            "100%|██████████| 782/782 [00:26<00:00, 29.53it/s]\n",
            "100%|██████████| 782/782 [00:27<00:00, 28.14it/s]\n",
            "100%|██████████| 782/782 [00:26<00:00, 29.23it/s]\n",
            "100%|██████████| 782/782 [00:27<00:00, 28.27it/s]\n",
            "100%|██████████| 782/782 [00:26<00:00, 29.62it/s]\n"
          ]
        },
        {
          "output_type": "stream",
          "name": "stdout",
          "text": [
            "Model  Inception Percentage of corruption:  0.5 Time taken:  270.9144825935364 Train Accuracy:  0.49766215682029724 Train Loss:  1.5035456418991089\n",
            "Files already downloaded and verified\n"
          ]
        },
        {
          "output_type": "stream",
          "name": "stderr",
          "text": [
            "100%|██████████| 782/782 [00:27<00:00, 28.15it/s]\n",
            "100%|██████████| 782/782 [00:26<00:00, 29.66it/s]\n",
            "100%|██████████| 782/782 [00:27<00:00, 28.47it/s]\n",
            "100%|██████████| 782/782 [00:27<00:00, 28.92it/s]\n",
            "100%|██████████| 782/782 [00:27<00:00, 28.84it/s]\n",
            "100%|██████████| 782/782 [00:26<00:00, 29.02it/s]\n",
            "100%|██████████| 782/782 [00:26<00:00, 28.99it/s]\n",
            "100%|██████████| 782/782 [00:27<00:00, 28.90it/s]\n",
            "100%|██████████| 782/782 [00:26<00:00, 29.04it/s]\n",
            "100%|██████████| 782/782 [00:27<00:00, 28.20it/s]\n"
          ]
        },
        {
          "output_type": "stream",
          "name": "stdout",
          "text": [
            "Model  Inception Percentage of corruption:  0.6 Time taken:  271.9815435409546 Train Accuracy:  0.4139825105667114 Train Loss:  1.7165552377700806\n",
            "Files already downloaded and verified\n"
          ]
        },
        {
          "output_type": "stream",
          "name": "stderr",
          "text": [
            "100%|██████████| 782/782 [00:27<00:00, 28.61it/s]\n",
            "100%|██████████| 782/782 [00:27<00:00, 28.38it/s]\n",
            "100%|██████████| 782/782 [00:26<00:00, 29.64it/s]\n",
            "100%|██████████| 782/782 [00:27<00:00, 28.46it/s]\n",
            "100%|██████████| 782/782 [00:26<00:00, 29.31it/s]\n",
            "100%|██████████| 782/782 [00:28<00:00, 27.85it/s]\n",
            "100%|██████████| 782/782 [00:26<00:00, 29.28it/s]\n",
            "100%|██████████| 782/782 [00:27<00:00, 28.38it/s]\n",
            "100%|██████████| 782/782 [00:27<00:00, 28.86it/s]\n",
            "100%|██████████| 782/782 [00:27<00:00, 28.89it/s]\n"
          ]
        },
        {
          "output_type": "stream",
          "name": "stdout",
          "text": [
            "Model  Inception Percentage of corruption:  0.7 Time taken:  272.47603821754456 Train Accuracy:  0.31651607155799866 Train Loss:  1.95168137550354\n",
            "Files already downloaded and verified\n"
          ]
        },
        {
          "output_type": "stream",
          "name": "stderr",
          "text": [
            "100%|██████████| 782/782 [00:26<00:00, 29.18it/s]\n",
            "100%|██████████| 782/782 [00:27<00:00, 28.70it/s]\n",
            "100%|██████████| 782/782 [00:27<00:00, 28.79it/s]\n",
            "100%|██████████| 782/782 [00:27<00:00, 27.95it/s]\n",
            "100%|██████████| 782/782 [00:27<00:00, 28.07it/s]\n",
            "100%|██████████| 782/782 [00:26<00:00, 29.11it/s]\n",
            "100%|██████████| 782/782 [00:27<00:00, 28.61it/s]\n",
            "100%|██████████| 782/782 [00:26<00:00, 29.07it/s]\n",
            "100%|██████████| 782/782 [00:27<00:00, 28.60it/s]\n",
            "100%|██████████| 782/782 [00:27<00:00, 28.43it/s]\n"
          ]
        },
        {
          "output_type": "stream",
          "name": "stdout",
          "text": [
            "Model  Inception Percentage of corruption:  0.8 Time taken:  273.56708312034607 Train Accuracy:  0.28576552867889404 Train Loss:  2.012470006942749\n",
            "Files already downloaded and verified\n"
          ]
        },
        {
          "output_type": "stream",
          "name": "stderr",
          "text": [
            "100%|██████████| 782/782 [00:26<00:00, 29.51it/s]\n",
            "100%|██████████| 782/782 [00:27<00:00, 27.95it/s]\n",
            "100%|██████████| 782/782 [00:27<00:00, 28.95it/s]\n",
            "100%|██████████| 782/782 [00:27<00:00, 28.87it/s]\n",
            "100%|██████████| 782/782 [00:27<00:00, 28.38it/s]\n",
            "100%|██████████| 782/782 [00:26<00:00, 29.62it/s]\n",
            "100%|██████████| 782/782 [00:28<00:00, 27.70it/s]\n",
            "100%|██████████| 782/782 [00:26<00:00, 29.28it/s]\n",
            "100%|██████████| 782/782 [00:27<00:00, 28.16it/s]\n",
            "100%|██████████| 782/782 [00:27<00:00, 28.87it/s]\n"
          ]
        },
        {
          "output_type": "stream",
          "name": "stdout",
          "text": [
            "Model  Inception Percentage of corruption:  0.9 Time taken:  272.8572497367859 Train Accuracy:  0.26684364676475525 Train Loss:  2.057488203048706\n",
            "Files already downloaded and verified\n"
          ]
        },
        {
          "output_type": "stream",
          "name": "stderr",
          "text": [
            "100%|██████████| 782/782 [00:28<00:00, 27.86it/s]\n",
            "100%|██████████| 782/782 [00:27<00:00, 28.57it/s]\n",
            "100%|██████████| 782/782 [00:27<00:00, 28.14it/s]\n",
            "100%|██████████| 782/782 [00:27<00:00, 28.87it/s]\n",
            "100%|██████████| 782/782 [00:27<00:00, 28.23it/s]\n",
            "100%|██████████| 782/782 [00:28<00:00, 27.84it/s]\n",
            "100%|██████████| 782/782 [00:27<00:00, 28.61it/s]\n",
            "100%|██████████| 782/782 [00:27<00:00, 28.44it/s]\n",
            "100%|██████████| 782/782 [00:26<00:00, 29.46it/s]\n",
            "100%|██████████| 782/782 [00:27<00:00, 27.96it/s]\n"
          ]
        },
        {
          "output_type": "stream",
          "name": "stdout",
          "text": [
            "Model  Inception Percentage of corruption:  1.0 Time taken:  276.01704239845276 Train Accuracy:  0.31941303610801697 Train Loss:  1.9238299131393433\n",
            "Files already downloaded and verified\n"
          ]
        },
        {
          "output_type": "stream",
          "name": "stderr",
          "text": [
            "100%|██████████| 782/782 [00:20<00:00, 38.40it/s]\n",
            "100%|██████████| 782/782 [00:21<00:00, 36.64it/s]\n",
            "100%|██████████| 782/782 [00:21<00:00, 36.73it/s]\n",
            "100%|██████████| 782/782 [00:20<00:00, 38.72it/s]\n",
            "100%|██████████| 782/782 [00:21<00:00, 36.09it/s]\n",
            "100%|██████████| 782/782 [00:21<00:00, 36.94it/s]\n",
            "100%|██████████| 782/782 [00:20<00:00, 38.37it/s]\n",
            "100%|██████████| 782/782 [00:21<00:00, 35.78it/s]\n",
            "100%|██████████| 782/782 [00:21<00:00, 36.54it/s]\n",
            "100%|██████████| 782/782 [00:20<00:00, 37.84it/s]\n"
          ]
        },
        {
          "output_type": "stream",
          "name": "stdout",
          "text": [
            "Model  MLP Percentage of corruption:  0.1 Time taken:  210.4724988937378 Train Accuracy:  0.4832756519317627 Train Loss:  1.579699158668518\n",
            "Files already downloaded and verified\n"
          ]
        },
        {
          "output_type": "stream",
          "name": "stderr",
          "text": [
            "100%|██████████| 782/782 [00:20<00:00, 37.41it/s]\n",
            "100%|██████████| 782/782 [00:20<00:00, 37.64it/s]\n",
            "100%|██████████| 782/782 [00:21<00:00, 36.94it/s]\n",
            "100%|██████████| 782/782 [00:20<00:00, 37.45it/s]\n",
            "100%|██████████| 782/782 [00:20<00:00, 37.27it/s]\n",
            "100%|██████████| 782/782 [00:21<00:00, 36.66it/s]\n",
            "100%|██████████| 782/782 [00:21<00:00, 37.18it/s]\n",
            "100%|██████████| 782/782 [00:20<00:00, 37.46it/s]\n",
            "100%|██████████| 782/782 [00:21<00:00, 36.72it/s]\n",
            "100%|██████████| 782/782 [00:20<00:00, 38.03it/s]\n"
          ]
        },
        {
          "output_type": "stream",
          "name": "stdout",
          "text": [
            "Model  MLP Percentage of corruption:  0.2 Time taken:  209.94660091400146 Train Accuracy:  0.43318384885787964 Train Loss:  1.7575852870941162\n",
            "Files already downloaded and verified\n"
          ]
        },
        {
          "output_type": "stream",
          "name": "stderr",
          "text": [
            "100%|██████████| 782/782 [00:20<00:00, 38.65it/s]\n",
            "100%|██████████| 782/782 [00:21<00:00, 36.01it/s]\n",
            "100%|██████████| 782/782 [00:21<00:00, 37.06it/s]\n",
            "100%|██████████| 782/782 [00:20<00:00, 38.14it/s]\n",
            "100%|██████████| 782/782 [00:21<00:00, 35.86it/s]\n",
            "100%|██████████| 782/782 [00:20<00:00, 37.54it/s]\n",
            "100%|██████████| 782/782 [00:20<00:00, 38.53it/s]\n",
            "100%|██████████| 782/782 [00:21<00:00, 36.34it/s]\n",
            "100%|██████████| 782/782 [00:20<00:00, 37.71it/s]\n",
            "100%|██████████| 782/782 [00:20<00:00, 37.80it/s]\n"
          ]
        },
        {
          "output_type": "stream",
          "name": "stdout",
          "text": [
            "Model  MLP Percentage of corruption:  0.3 Time taken:  209.56355094909668 Train Accuracy:  0.38299185037612915 Train Loss:  1.89108145236969\n",
            "Files already downloaded and verified\n"
          ]
        },
        {
          "output_type": "stream",
          "name": "stderr",
          "text": [
            "100%|██████████| 782/782 [00:21<00:00, 36.94it/s]\n",
            "100%|██████████| 782/782 [00:20<00:00, 38.22it/s]\n",
            "100%|██████████| 782/782 [00:21<00:00, 36.67it/s]\n",
            "100%|██████████| 782/782 [00:20<00:00, 37.63it/s]\n",
            "100%|██████████| 782/782 [00:20<00:00, 37.72it/s]\n",
            "100%|██████████| 782/782 [00:21<00:00, 36.55it/s]\n",
            "100%|██████████| 782/782 [00:20<00:00, 37.36it/s]\n",
            "100%|██████████| 782/782 [00:20<00:00, 38.29it/s]\n",
            "100%|██████████| 782/782 [00:21<00:00, 35.86it/s]\n",
            "100%|██████████| 782/782 [00:20<00:00, 37.57it/s]\n"
          ]
        },
        {
          "output_type": "stream",
          "name": "stdout",
          "text": [
            "Model  MLP Percentage of corruption:  0.4 Time taken:  209.98135089874268 Train Accuracy:  0.33106204867362976 Train Loss:  2.0114245414733887\n",
            "Files already downloaded and verified\n"
          ]
        },
        {
          "output_type": "stream",
          "name": "stderr",
          "text": [
            "100%|██████████| 782/782 [00:20<00:00, 37.38it/s]\n",
            "100%|██████████| 782/782 [00:20<00:00, 37.51it/s]\n",
            "100%|██████████| 782/782 [00:20<00:00, 37.42it/s]\n",
            "100%|██████████| 782/782 [00:20<00:00, 37.49it/s]\n",
            "100%|██████████| 782/782 [00:20<00:00, 37.57it/s]\n",
            "100%|██████████| 782/782 [00:20<00:00, 37.26it/s]\n",
            "100%|██████████| 782/782 [00:21<00:00, 36.52it/s]\n",
            "100%|██████████| 782/782 [00:20<00:00, 37.74it/s]\n",
            "100%|██████████| 782/782 [00:21<00:00, 36.99it/s]\n",
            "100%|██████████| 782/782 [00:21<00:00, 36.46it/s]\n"
          ]
        },
        {
          "output_type": "stream",
          "name": "stdout",
          "text": [
            "Model  MLP Percentage of corruption:  0.5 Time taken:  210.17259097099304 Train Accuracy:  0.2866046726703644 Train Loss:  2.1000757217407227\n",
            "Files already downloaded and verified\n"
          ]
        },
        {
          "output_type": "stream",
          "name": "stderr",
          "text": [
            "100%|██████████| 782/782 [00:21<00:00, 36.89it/s]\n",
            "100%|██████████| 782/782 [00:21<00:00, 37.19it/s]\n",
            "100%|██████████| 782/782 [00:21<00:00, 36.82it/s]\n",
            "100%|██████████| 782/782 [00:20<00:00, 37.26it/s]\n",
            "100%|██████████| 782/782 [00:21<00:00, 36.75it/s]\n",
            "100%|██████████| 782/782 [00:21<00:00, 37.16it/s]\n",
            "100%|██████████| 782/782 [00:20<00:00, 37.66it/s]\n",
            "100%|██████████| 782/782 [00:21<00:00, 36.78it/s]\n",
            "100%|██████████| 782/782 [00:21<00:00, 37.00it/s]\n",
            "100%|██████████| 782/782 [00:20<00:00, 37.67it/s]\n"
          ]
        },
        {
          "output_type": "stream",
          "name": "stdout",
          "text": [
            "Model  MLP Percentage of corruption:  0.6 Time taken:  210.8296308517456 Train Accuracy:  0.2418278306722641 Train Loss:  2.170321464538574\n",
            "Files already downloaded and verified\n"
          ]
        },
        {
          "output_type": "stream",
          "name": "stderr",
          "text": [
            "100%|██████████| 782/782 [00:22<00:00, 35.46it/s]\n",
            "100%|██████████| 782/782 [00:20<00:00, 38.38it/s]\n",
            "100%|██████████| 782/782 [00:21<00:00, 37.11it/s]\n",
            "100%|██████████| 782/782 [00:21<00:00, 35.70it/s]\n",
            "100%|██████████| 782/782 [00:20<00:00, 38.15it/s]\n",
            "100%|██████████| 782/782 [00:20<00:00, 37.56it/s]\n",
            "100%|██████████| 782/782 [00:21<00:00, 36.53it/s]\n",
            "100%|██████████| 782/782 [00:20<00:00, 37.90it/s]\n",
            "100%|██████████| 782/782 [00:21<00:00, 37.00it/s]\n",
            "100%|██████████| 782/782 [00:21<00:00, 36.17it/s]\n"
          ]
        },
        {
          "output_type": "stream",
          "name": "stdout",
          "text": [
            "Model  MLP Percentage of corruption:  0.7 Time taken:  211.66167187690735 Train Accuracy:  0.1988891065120697 Train Loss:  2.2200441360473633\n",
            "Files already downloaded and verified\n"
          ]
        },
        {
          "output_type": "stream",
          "name": "stderr",
          "text": [
            "100%|██████████| 782/782 [00:20<00:00, 37.42it/s]\n",
            "100%|██████████| 782/782 [00:20<00:00, 37.68it/s]\n",
            "100%|██████████| 782/782 [00:20<00:00, 37.64it/s]\n",
            "100%|██████████| 782/782 [00:21<00:00, 36.60it/s]\n",
            "100%|██████████| 782/782 [00:20<00:00, 38.03it/s]\n",
            "100%|██████████| 782/782 [00:20<00:00, 37.67it/s]\n",
            "100%|██████████| 782/782 [00:21<00:00, 37.07it/s]\n",
            "100%|██████████| 782/782 [00:20<00:00, 38.64it/s]\n",
            "100%|██████████| 782/782 [00:20<00:00, 38.07it/s]\n",
            "100%|██████████| 782/782 [00:21<00:00, 36.60it/s]\n"
          ]
        },
        {
          "output_type": "stream",
          "name": "stdout",
          "text": [
            "Model  MLP Percentage of corruption:  0.8 Time taken:  208.4828646183014 Train Accuracy:  0.175591379404068 Train Loss:  2.2504076957702637\n",
            "Files already downloaded and verified\n"
          ]
        },
        {
          "output_type": "stream",
          "name": "stderr",
          "text": [
            "100%|██████████| 782/782 [00:20<00:00, 38.30it/s]\n",
            "100%|██████████| 782/782 [00:21<00:00, 36.68it/s]\n",
            "100%|██████████| 782/782 [00:20<00:00, 38.94it/s]\n",
            "100%|██████████| 782/782 [00:20<00:00, 38.56it/s]\n",
            "100%|██████████| 782/782 [00:21<00:00, 36.63it/s]\n",
            "100%|██████████| 782/782 [00:19<00:00, 39.59it/s]\n",
            "100%|██████████| 782/782 [00:20<00:00, 38.26it/s]\n",
            "100%|██████████| 782/782 [00:21<00:00, 36.68it/s]\n",
            "100%|██████████| 782/782 [00:19<00:00, 39.37it/s]\n",
            "100%|██████████| 782/782 [00:20<00:00, 38.43it/s]\n"
          ]
        },
        {
          "output_type": "stream",
          "name": "stdout",
          "text": [
            "Model  MLP Percentage of corruption:  0.9 Time taken:  205.30698442459106 Train Accuracy:  0.1655810922384262 Train Loss:  2.261382579803467\n",
            "Files already downloaded and verified\n"
          ]
        },
        {
          "output_type": "stream",
          "name": "stderr",
          "text": [
            "100%|██████████| 782/782 [00:21<00:00, 36.93it/s]\n",
            "100%|██████████| 782/782 [00:19<00:00, 39.21it/s]\n",
            "100%|██████████| 782/782 [00:20<00:00, 38.22it/s]\n",
            "100%|██████████| 782/782 [00:21<00:00, 36.72it/s]\n",
            "100%|██████████| 782/782 [00:19<00:00, 39.27it/s]\n",
            "100%|██████████| 782/782 [00:20<00:00, 37.65it/s]\n",
            "100%|██████████| 782/782 [00:21<00:00, 36.70it/s]\n",
            "100%|██████████| 782/782 [00:20<00:00, 38.75it/s]\n",
            "100%|██████████| 782/782 [00:20<00:00, 37.61it/s]\n",
            "100%|██████████| 782/782 [00:21<00:00, 36.54it/s]\n"
          ]
        },
        {
          "output_type": "stream",
          "name": "stdout",
          "text": [
            "Model  MLP Percentage of corruption:  1.0 Time taken:  207.37277126312256 Train Accuracy:  0.16825847327709198 Train Loss:  2.249277353286743\n"
          ]
        }
      ],
      "source": [
        "\n",
        "modelNames = [\"Alexnet\",\"Inception\",\"MLP\"]\n",
        "modelDict = {}\n",
        "for modelName in modelNames:\n",
        "    percentage = [0.1,0.2,0.3,0.4,0.5,0.6,0.7,0.8,0.9,1.0]\n",
        "    perTrainlosslst = []\n",
        "    perTrainacclst = []\n",
        "    pertimetakenlst = []\n",
        "    permodellst = []\n",
        "    lr = 0.001\n",
        "    if modelName == \"Inception\":\n",
        "        lr = 0.1\n",
        "    for i in percentage:\n",
        "        perTrainloss, perTrainacc , permodel,pertimetaken = trainmodel(epochs=10,train_loader=train_loader,lr=0.001,corruption=i,modelName=modelName)\n",
        "        perTrainlosslst.append(perTrainloss)\n",
        "        perTrainacclst.append(perTrainacc)\n",
        "        pertimetakenlst.append(pertimetaken)\n",
        "        permodellst.append(permodel)\n",
        "        print(\"Model \" , modelName , \"Percentage of corruption: \",i,\"Time taken: \",pertimetaken , \"Train Accuracy: \",perTrainacc[-1] , \"Train Loss: \",perTrainloss[-1])\n",
        "    # finallst = [perTrainlosslst,perTrainacclst,pertimetakenlst,permodellst]\n",
        "    # modelDict[modelName] = finallst\n",
        "    finaldict = {\n",
        "        \"TrainLosslst\":perTrainlosslst,\n",
        "        \"TrainAccuracylst\":perTrainacclst,\n",
        "        \"TimeTakenlst\":pertimetakenlst,\n",
        "        \"Modellst\":permodellst\n",
        "    }\n",
        "    modelDict[modelName] = finaldict\n",
        "\n",
        "\n",
        "\n",
        "\n",
        "\n",
        "\n"
      ]
    },
    {
      "cell_type": "code",
      "source": [
        "from google.colab import drive\n",
        "drive.mount('/content/drive')"
      ],
      "metadata": {
        "colab": {
          "base_uri": "https://localhost:8080/"
        },
        "id": "gjhwNLSwIlz8",
        "outputId": "49c857fc-71e9-4cd8-8719-f35906d3e522"
      },
      "execution_count": 1,
      "outputs": [
        {
          "output_type": "stream",
          "name": "stdout",
          "text": [
            "Mounted at /content/drive\n"
          ]
        }
      ]
    },
    {
      "cell_type": "code",
      "execution_count": null,
      "metadata": {
        "id": "81f8ViInIN6n"
      },
      "outputs": [],
      "source": [
        "# save time taken for each model in a file\n",
        "import json\n",
        "timetakenjson = {}\n",
        "trainlossjson = {}\n",
        "modellst = {}\n",
        "path = \"/content/drive/MyDrive/Untitled Folder\"\n",
        "for modelName in modelNames:\n",
        "    timetakenjson[modelName] = modelDict[modelName][\"TimeTakenlst\"]\n",
        "\n",
        "\n",
        "for modelName in modelNames:\n",
        "    trainlossjson[modelName] = modelDict[modelName][\"TrainLosslst\"]\n",
        "\n",
        "\n",
        "with open(path + \"timetaken.json\", 'w') as f:\n",
        "    json.dump(timetakenjson, f)\n",
        "\n",
        "with open(path + \"trainloss.json\", 'w') as f:\n",
        "    json.dump(trainlossjson, f)\n"
      ]
    },
    {
      "cell_type": "code",
      "source": [
        "path = \"/content/drive/MyDrive/Untitled Folder/\"\n"
      ],
      "metadata": {
        "id": "JtMlQr7fg9pg"
      },
      "execution_count": 2,
      "outputs": []
    },
    {
      "cell_type": "code",
      "source": [
        "#\n",
        "for modelName in modelNames:\n",
        "    for i in range(len(modelDict[modelName][\"Modellst\"])):\n",
        "        # state_dict()\n",
        "        torch.save(modelDict[modelName][\"Modellst\"][i].state_dict(), path + modelName + str(i) + \".pt\")\n",
        "\n"
      ],
      "metadata": {
        "id": "loeFWuxJxqRh"
      },
      "execution_count": null,
      "outputs": []
    },
    {
      "cell_type": "code",
      "source": [
        "#loading model \n",
        "modellst= {}\n",
        "modelNames = [\"Alexnet\",\"Inception\",\"MLP\"]\n",
        "path = \"/content/drive/MyDrive/Untitled Folder\"\n",
        "\n",
        "\n",
        "\n",
        "for modelName in modelNames:\n",
        "    modellst[modelName] = []\n",
        "    for i in range((10)):\n",
        "        model_state_dict = torch.load(path + modelName + str(i) + \".pt\")\n",
        "        modelobj = None\n",
        "        if modelName == \"Alexnet\":\n",
        "            modelobj = AlexNetSmall()\n",
        "        elif modelName == \"Inception\":\n",
        "            modelobj = InceptionNet()\n",
        "        elif modelName == \"MLP\":\n",
        "            modelobj = MLP1x512()\n",
        "        modelobj.load_state_dict(model_state_dict)\n",
        "        modellst[modelName].append(modelobj)"
      ],
      "metadata": {
        "id": "bixHshSItg1r"
      },
      "execution_count": null,
      "outputs": []
    },
    {
      "cell_type": "code",
      "source": [
        "def testlossget(modelDict,test_loader):\n",
        "    modelNames = modelDict.keys()\n",
        "    # all image test loss\n",
        "    testlosslst = {\n",
        "                   \"MLP\":[0] * 10,\n",
        "                   \"Alexnet\":[0] * 10,\n",
        "                   \"Inception\":[0] * 10\n",
        "                   }\n",
        "    for i,(images,labels) in enumerate(tqdm(test_loader)):\n",
        "        images = images.to(device)\n",
        "        labels = labels.to(device)\n",
        "\n",
        "        for modelName in modelNames:\n",
        "            models = modelDict[modelName]\n",
        "            criterion = nn.CrossEntropyLoss()\n",
        "            t = 0\n",
        "\n",
        "            for model in models:\n",
        "                model.eval()\n",
        "                model.cuda()\n",
        "                test_loss = testlosslst[modelName][t]\n",
        "                outputs = model(images)\n",
        "                loss = criterion(outputs, labels)\n",
        "                _, argmax = torch.max(outputs, 1)\n",
        "                test_loss += loss / len(test_loader)\n",
        "                testlosslst[modelName][t] = float(test_loss)\n",
        "                t += 1\n",
        "\n",
        "    return testlosslst\n",
        "\n",
        "testlosslst = testlossget(modellst,test_loader)\n",
        "\n",
        "with open(path + 'testloss.json', 'w') as fp:\n",
        "    json.dump(testlosslst, fp)"
      ],
      "metadata": {
        "id": "Fm1OjivXdirb"
      },
      "execution_count": null,
      "outputs": []
    },
    {
      "cell_type": "code",
      "source": [
        "timetakenjson =  json.load(open(path + \"timetaken.json\", 'r'))\n",
        "testlossjson =  json.load(open(path + \"testloss.json\", 'r'))"
      ],
      "metadata": {
        "id": "PsLm4WKlgBEB"
      },
      "execution_count": 25,
      "outputs": []
    },
    {
      "cell_type": "code",
      "source": [
        "percentage = [0.1,0.2,0.3,0.4,0.5,0.6,0.7,0.8,0.9,1.0]\n",
        "\n",
        "def plotTimegraph(modelDict):\n",
        "    modelNames = modelDict.keys()\n",
        "    i = 0\n",
        "    for modelName in modelNames:\n",
        "        timetakenlst = modelDict[modelName]\n",
        "        plt.plot(percentage,timetakenlst[1:] , label = modelName)\n",
        "    plt.xlabel(\"Label corruption\")\n",
        "    plt.ylabel(\"Time taken to Overfit\")\n",
        "    plt.title(\"Time taken to Overfit vs Label corruption\")\n",
        "    plt.legend()\n",
        "    plt.grid()\n",
        "plotTimegraph(timetakenjson)\n",
        "\n",
        "\n",
        "    "
      ],
      "metadata": {
        "colab": {
          "base_uri": "https://localhost:8080/",
          "height": 472
        },
        "id": "SUTP1xlle2NW",
        "outputId": "652920dc-d607-41c3-9974-ad969c3aae44"
      },
      "execution_count": 29,
      "outputs": [
        {
          "output_type": "display_data",
          "data": {
            "text/plain": [
              "<Figure size 640x480 with 1 Axes>"
            ],
            "image/png": "[encoded data removed]"
          },
          "metadata": {}
        }
      ]
    },
    {
      "cell_type": "code",
      "source": [
        "percentage = [0.1,0.2,0.3,0.4,0.5,0.6,0.7,0.8,0.9,1.0]\n",
        "\n",
        "def plotAvgTestgraph(modelDict):\n",
        "    modelNames = modelDict.keys()\n",
        "    i = 0\n",
        "    for modelName in modelNames:\n",
        "        avgTestloss = modelDict[modelName]\n",
        "        plt.plot(percentage,avgTestloss , label = modelName)\n",
        "    plt.xlabel(\"Label corruption\")\n",
        "    plt.ylabel(\"Avgerage Test Error\")\n",
        "    plt.title(\"Average Test Error vs Label corruption\")\n",
        "    plt.legend()\n",
        "    plt.grid()\n",
        "plotAvgTestgraph(testlossjson)\n"
      ],
      "metadata": {
        "colab": {
          "base_uri": "https://localhost:8080/",
          "height": 472
        },
        "id": "Gx1_rg4qhs0y",
        "outputId": "fba3c1d4-113a-4fc2-835e-3761853337f5"
      },
      "execution_count": 28,
      "outputs": [
        {
          "output_type": "display_data",
          "data": {
            "text/plain": [
              "<Figure size 640x480 with 1 Axes>"
            ],
            "image/png": "[encoded data removed]"
          },
          "metadata": {}
        }
      ]
    },
    {
      "cell_type": "code",
      "execution_count": null,
      "metadata": {
        "id": "stIOt0x3IN6s"
      },
      "outputs": [],
      "source": []
    }
  ],
  "metadata": {
    "kernelspec": {
      "display_name": "Python 3",
      "language": "python",
      "name": "python3"
    },
    "language_info": {
      "codemirror_mode": {
        "name": "ipython",
        "version": 3
      },
      "file_extension": ".py",
      "mimetype": "text/x-python",
      "name": "python",
      "nbconvert_exporter": "python",
      "pygments_lexer": "ipython3",
      "version": "3.8.10"
    },
    "colab": {
      "provenance": [],
      "gpuType": "T4"
    },
    "accelerator": "GPU",
    "gpuClass": "standard"
  },
  "nbformat": 4,
  "nbformat_minor": 0
}