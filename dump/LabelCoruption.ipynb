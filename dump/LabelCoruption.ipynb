{
 "cells": [
  {
   "attachments": {},
   "cell_type": "markdown",
   "metadata": {},
   "source": [
    "\n",
    "### Label Corruption Experiment\n",
    "\n",
    "\n",
    "* Label Corruption : As the results of above experminets results in 0 test loss , Authors further test the theory of Random Noise Learning by varying the rate of label corruption and observing the effect on the test loss and time taken to converge. The models used for this experiment are Inception , AlexNet and MLP 1x512 . We will replicate the same experiment with the same models and datasets to validate the results of the paper.\n"
   ]
  },
  {
   "attachments": {},
   "cell_type": "markdown",
   "metadata": {},
   "source": []
  }
 ],
 "metadata": {
  "language_info": {
   "name": "python"
  },
  "orig_nbformat": 4
 },
 "nbformat": 4,
 "nbformat_minor": 2
}
