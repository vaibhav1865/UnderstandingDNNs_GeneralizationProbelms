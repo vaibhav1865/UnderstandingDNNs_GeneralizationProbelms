{
  "nbformat": 4,
  "nbformat_minor": 0,
  "metadata": {
    "colab": {
      "provenance": [],
      "gpuType": "T4"
    },
    "kernelspec": {
      "name": "python3",
      "display_name": "Python 3"
    },
    "language_info": {
      "name": "python"
    },
    "accelerator": "GPU",
    "gpuClass": "standard"
  },
  "cells": [
    {
      "cell_type": "code",
      "execution_count": 1,
      "metadata": {
        "id": "fAatx8g1VwvP"
      },
      "outputs": [],
      "source": [
        "import torch\n",
        "import torchvision\n",
        "import torchvision.transforms as transforms\n",
        "import torch.nn as nn\n",
        "import numpy as np\n",
        "import matplotlib.pyplot as plt\n",
        "%matplotlib inline\n",
        "from torchsummary import summary\n",
        "import pandas as pd"
      ]
    },
    {
      "cell_type": "code",
      "source": [
        "transform = transforms.Compose([transforms.ToTensor(),transforms.CenterCrop(28),transforms.Normalize((0.5, 0.5, 0.5), (0.5, 0.5, 0.5))])"
      ],
      "metadata": {
        "id": "j706OW2WV8p0"
      },
      "execution_count": 2,
      "outputs": []
    },
    {
      "cell_type": "code",
      "source": [
        "trainset = torchvision.datasets.CIFAR10(root='./', train=True, download=True, transform=transform)\n",
        "testset = torchvision.datasets.CIFAR10(root='./', train=False, transform=transform)"
      ],
      "metadata": {
        "colab": {
          "base_uri": "https://localhost:8080/"
        },
        "id": "9HzDp9RXV98M",
        "outputId": "5cec9ae8-dba2-486f-ac6e-9f40eb88db6f"
      },
      "execution_count": 3,
      "outputs": [
        {
          "output_type": "stream",
          "name": "stdout",
          "text": [
            "Downloading https://www.cs.toronto.edu/~kriz/cifar-10-python.tar.gz to ./cifar-10-python.tar.gz\n"
          ]
        },
        {
          "output_type": "stream",
          "name": "stderr",
          "text": [
            "100%|██████████| 170498071/170498071 [00:03<00:00, 48845770.64it/s]\n"
          ]
        },
        {
          "output_type": "stream",
          "name": "stdout",
          "text": [
            "Extracting ./cifar-10-python.tar.gz to ./\n"
          ]
        }
      ]
    },
    {
      "cell_type": "code",
      "source": [
        "trainloader = torch.utils.data.DataLoader(trainset,batch_size=32, shuffle=True, num_workers=2,pin_memory=True)\n",
        "testloader = torch.utils.data.DataLoader(testset,batch_size=32, shuffle=False, num_workers=2,pin_memory=True)"
      ],
      "metadata": {
        "id": "FiXT55I0V_i1"
      },
      "execution_count": 4,
      "outputs": []
    },
    {
      "cell_type": "code",
      "source": [
        "def get_device():\n",
        "  if torch.cuda.is_available():\n",
        "      return torch.device('cuda')\n",
        "  else:\n",
        "      return torch.device('cpu')\n",
        "device = get_device()\n",
        "device"
      ],
      "metadata": {
        "colab": {
          "base_uri": "https://localhost:8080/"
        },
        "id": "t5tyvL1iWBpt",
        "outputId": "fc0329a3-9bc4-47a2-a2ca-649639100525"
      },
      "execution_count": 5,
      "outputs": [
        {
          "output_type": "execute_result",
          "data": {
            "text/plain": [
              "device(type='cuda')"
            ]
          },
          "metadata": {},
          "execution_count": 5
        }
      ]
    },
    {
      "cell_type": "code",
      "source": [
        "# conv module with or without batchnorm based on bn_flag\n",
        "class ConvModule(nn.Module):\n",
        "    \n",
        "    def __init__(self , bn_flag , in_channels , out_channels , kernel_size , stride , padding):\n",
        "        super(ConvModule , self).__init__()\n",
        "        self.conv = nn.Conv2d(in_channels , out_channels , kernel_size , stride , padding)\n",
        "        self.bn_flag = bn_flag\n",
        "        if bn_flag:\n",
        "            self.bn = nn.BatchNorm2d(out_channels)\n",
        "        self.relu = nn.ReLU()\n",
        "    \n",
        "    def forward(self , input):\n",
        "        output = self.conv(input)\n",
        "        if self.bn_flag:\n",
        "            output = self.bn(output)\n",
        "        output = self.relu(output)\n",
        "        return output\n",
        "\n",
        "\n",
        "\n",
        "class InceptionModule(nn.Module):\n",
        "    \n",
        "    def __init__(self , bn_flag , in_channels , Ch1 , Ch3):\n",
        "        super(InceptionModule , self).__init__()\n",
        "        self.branch1 = ConvModule(bn_flag , in_channels , Ch1 , kernel_size = 1 , stride = 1 , padding = 0)\n",
        "        self.branch2 = ConvModule(bn_flag , in_channels , Ch3 , kernel_size = 3 , stride = 1 , padding = 1)\n",
        "\n",
        "    def forward(self , input):\n",
        "        branch1 = self.branch1(input)\n",
        "        branch2 = self.branch2(input)\n",
        "        return torch.cat([branch1 , branch2] , 1)\n",
        "\n",
        "\n",
        "\n",
        "class DownSampleModule(nn.Module):\n",
        "\n",
        "    def __init__(self , bn_flag , in_channels , Ch3):\n",
        "        super(DownSampleModule , self).__init__()\n",
        "        self.branch1 = ConvModule(bn_flag , in_channels , Ch3 , kernel_size = 3 , stride = 2 , padding = 0)\n",
        "        self.branch2 = nn.MaxPool2d(3 , stride = 2)\n",
        "    \n",
        "    def forward(self , input):\n",
        "        branch1 = self.branch1(input)\n",
        "        branch2 = self.branch2(input)\n",
        "        return torch.cat([branch1 , branch2] , 1)\n",
        "\n",
        "\n",
        "\n",
        "class InceptionNet(nn.Module):\n",
        "    \n",
        "    def __init__(self , bn_flag , classes = 10):\n",
        "        super(InceptionNet , self).__init__()\n",
        "        self.conv1 = ConvModule(bn_flag , in_channels = 3 , out_channels = 96 , kernel_size = 3 , stride = 1 , padding = 0)\n",
        "        self.inception1 = InceptionModule(bn_flag , in_channels = 96 , Ch1 = 32 , Ch3 = 32)\n",
        "        self.inception2 = InceptionModule(bn_flag , in_channels = 64 , Ch1 = 32 , Ch3 = 48)\n",
        "        self.downsample1 = DownSampleModule(bn_flag , in_channels = 80 , Ch3 = 80)\n",
        "        self.inception3 = InceptionModule(bn_flag , in_channels = 160 , Ch1 = 112 , Ch3 = 48)\n",
        "        self.inception4 = InceptionModule(bn_flag , in_channels = 160 , Ch1 = 96 , Ch3 = 64)\n",
        "        self.inception5 = InceptionModule(bn_flag , in_channels = 160 , Ch1 = 80 , Ch3 = 80)\n",
        "        self.inception6 = InceptionModule(bn_flag , in_channels = 160 , Ch1 = 48 , Ch3 = 96)\n",
        "        self.downsample2 = DownSampleModule(bn_flag , in_channels = 144 , Ch3 = 96)\n",
        "        self.inception7 = InceptionModule(bn_flag , in_channels = 240 , Ch1 = 176 , Ch3 = 160)\n",
        "        self.inception8 = InceptionModule(bn_flag , in_channels = 336 , Ch1 = 176 , Ch3 = 160)\n",
        "        self.mean_pool = nn.AdaptiveAvgPool2d((7 , 7))\n",
        "        self.fc = nn.Linear(16464, classes)\n",
        "    \n",
        "    def forward(self , input):\n",
        "        output = self.conv1(input)\n",
        "        output = self.inception1(output)\n",
        "        output = self.inception2(output)\n",
        "        output = self.downsample1(output)\n",
        "        output = self.inception3(output)\n",
        "        output = self.inception4(output)\n",
        "        output = self.inception5(output)\n",
        "        output = self.inception6(output)\n",
        "        output = self.downsample2(output)\n",
        "        output = self.inception7(output)\n",
        "        output = self.inception8(output)\n",
        "        output = self.mean_pool(output)\n",
        "        output = torch.flatten(output,1)\n",
        "        output = self.fc(output)\n",
        "        return output"
      ],
      "metadata": {
        "id": "IbB5IskkWDUY"
      },
      "execution_count": 6,
      "outputs": []
    },
    {
      "cell_type": "code",
      "source": [
        "def get_accuracy(model,data_loader):\n",
        "  model.eval()\n",
        "  correct , total = 0 , 0\n",
        "  for i, data in enumerate(data_loader, 0):\n",
        "    images, labels = data[0].to(device), data[1].to(device)\n",
        "    outputs = model(images)\n",
        "    _, preds = torch.max(outputs, dim=1)\n",
        "    total += labels.size(0)\n",
        "    correct += (preds == labels).sum().item()\n",
        "  return (correct / total)\n",
        "\n",
        "\n",
        "def fit(epoch, model, train_loader, test_loader):\n",
        "\n",
        "  optimizer = torch.optim.SGD(model.parameters(), lr=0.001, momentum=0.9)  \n",
        "  scheduler = torch.optim.lr_scheduler.StepLR(optimizer, 100, gamma=1.0)\n",
        "  \n",
        "  train_acc , test_acc = [] , []\n",
        "  count = 0\n",
        "  \n",
        "  criterion = nn.CrossEntropyLoss().to(device)\n",
        "  \n",
        "  for epoch in range(epoch):  \n",
        "    running_loss = 0.0\n",
        "    \n",
        "    for i, data in enumerate(train_loader, 0):\n",
        "    \n",
        "      inputs, labels = data[0].to(device), data[1].to(device)\n",
        "      optimizer.zero_grad()\n",
        "      outputs = model(inputs)\n",
        "      loss = criterion(outputs, labels)\n",
        "      loss.backward()\n",
        "      optimizer.step()\n",
        "      \n",
        "      running_loss += loss.item()\n",
        "      count += 1\n",
        "      \n",
        "      if count % 1000 == 0:\n",
        "        curr_train_acc , curr_test_acc = get_accuracy(model , train_loader) , get_accuracy(model , test_loader)\n",
        "        model.train()\n",
        "        train_acc.append(curr_train_acc)\n",
        "        test_acc.append(curr_test_acc)\n",
        "\n",
        "    print(\"Epoch {} | loss: {:.4f} | Train acc: {:.4f} | Val acc: {:.4f}\".format(epoch + 1 , running_loss , curr_train_acc , curr_test_acc))\n",
        "    scheduler.step()\n",
        "  return model,train_acc,test_acc"
      ],
      "metadata": {
        "id": "r0zRsD_nWFEe"
      },
      "execution_count": 7,
      "outputs": []
    },
    {
      "cell_type": "code",
      "source": [
        "model_with_bn = InceptionNet(bn_flag = True).to(device)\n",
        "trained_model1 , train_accuracy1 , test_accuracy1 = fit(50, model_with_bn , trainloader , testloader)"
      ],
      "metadata": {
        "colab": {
          "base_uri": "https://localhost:8080/"
        },
        "id": "HLa0xRlTWGy1",
        "outputId": "497ccb7b-a0d5-4a76-d45f-885287024865"
      },
      "execution_count": 8,
      "outputs": [
        {
          "output_type": "stream",
          "name": "stdout",
          "text": [
            "Epoch 1 | loss: 2074.1765 | Train acc: 0.6212 | Val acc: 0.5965\n",
            "Epoch 2 | loss: 1285.9313 | Train acc: 0.7886 | Val acc: 0.7342\n",
            "Epoch 3 | loss: 948.9406 | Train acc: 0.8268 | Val acc: 0.7566\n",
            "Epoch 4 | loss: 720.1027 | Train acc: 0.8984 | Val acc: 0.7925\n",
            "Epoch 5 | loss: 531.1087 | Train acc: 0.9094 | Val acc: 0.7925\n",
            "Epoch 6 | loss: 388.9252 | Train acc: 0.9353 | Val acc: 0.7910\n",
            "Epoch 7 | loss: 261.9512 | Train acc: 0.9654 | Val acc: 0.8092\n",
            "Epoch 8 | loss: 168.5772 | Train acc: 0.9807 | Val acc: 0.8146\n",
            "Epoch 9 | loss: 99.5399 | Train acc: 0.9858 | Val acc: 0.8120\n",
            "Epoch 10 | loss: 58.9452 | Train acc: 0.9956 | Val acc: 0.8188\n",
            "Epoch 11 | loss: 37.7133 | Train acc: 0.9974 | Val acc: 0.8212\n",
            "Epoch 12 | loss: 18.0623 | Train acc: 0.9997 | Val acc: 0.8332\n",
            "Epoch 13 | loss: 10.6222 | Train acc: 1.0000 | Val acc: 0.8379\n",
            "Epoch 14 | loss: 8.1591 | Train acc: 1.0000 | Val acc: 0.8380\n",
            "Epoch 15 | loss: 4.8558 | Train acc: 1.0000 | Val acc: 0.8424\n",
            "Epoch 16 | loss: 2.9389 | Train acc: 1.0000 | Val acc: 0.8389\n",
            "Epoch 17 | loss: 2.5870 | Train acc: 1.0000 | Val acc: 0.8404\n",
            "Epoch 18 | loss: 2.3800 | Train acc: 1.0000 | Val acc: 0.8420\n",
            "Epoch 19 | loss: 1.7958 | Train acc: 1.0000 | Val acc: 0.8418\n",
            "Epoch 20 | loss: 1.7271 | Train acc: 1.0000 | Val acc: 0.8399\n",
            "Epoch 21 | loss: 1.4951 | Train acc: 1.0000 | Val acc: 0.8399\n",
            "Epoch 22 | loss: 1.2426 | Train acc: 1.0000 | Val acc: 0.8411\n",
            "Epoch 23 | loss: 1.2562 | Train acc: 1.0000 | Val acc: 0.8394\n",
            "Epoch 24 | loss: 1.1988 | Train acc: 1.0000 | Val acc: 0.8405\n",
            "Epoch 25 | loss: 1.1032 | Train acc: 1.0000 | Val acc: 0.8381\n",
            "Epoch 26 | loss: 0.9777 | Train acc: 1.0000 | Val acc: 0.8422\n",
            "Epoch 27 | loss: 0.9186 | Train acc: 1.0000 | Val acc: 0.8420\n",
            "Epoch 28 | loss: 0.8980 | Train acc: 1.0000 | Val acc: 0.8426\n",
            "Epoch 29 | loss: 0.9127 | Train acc: 1.0000 | Val acc: 0.8427\n",
            "Epoch 30 | loss: 0.7971 | Train acc: 1.0000 | Val acc: 0.8414\n",
            "Epoch 31 | loss: 0.8399 | Train acc: 1.0000 | Val acc: 0.8391\n",
            "Epoch 32 | loss: 0.7680 | Train acc: 1.0000 | Val acc: 0.8404\n",
            "Epoch 33 | loss: 0.7113 | Train acc: 1.0000 | Val acc: 0.8407\n",
            "Epoch 34 | loss: 0.6953 | Train acc: 1.0000 | Val acc: 0.8412\n",
            "Epoch 35 | loss: 0.6227 | Train acc: 1.0000 | Val acc: 0.8424\n",
            "Epoch 36 | loss: 0.6322 | Train acc: 1.0000 | Val acc: 0.8416\n",
            "Epoch 37 | loss: 0.5566 | Train acc: 1.0000 | Val acc: 0.8412\n",
            "Epoch 38 | loss: 0.5394 | Train acc: 1.0000 | Val acc: 0.8410\n",
            "Epoch 39 | loss: 0.5847 | Train acc: 1.0000 | Val acc: 0.8413\n",
            "Epoch 40 | loss: 0.5286 | Train acc: 1.0000 | Val acc: 0.8421\n",
            "Epoch 41 | loss: 0.5506 | Train acc: 1.0000 | Val acc: 0.8413\n",
            "Epoch 42 | loss: 0.4983 | Train acc: 1.0000 | Val acc: 0.8404\n",
            "Epoch 43 | loss: 0.5313 | Train acc: 1.0000 | Val acc: 0.8400\n",
            "Epoch 44 | loss: 0.5064 | Train acc: 1.0000 | Val acc: 0.8417\n",
            "Epoch 45 | loss: 0.4865 | Train acc: 1.0000 | Val acc: 0.8421\n",
            "Epoch 46 | loss: 0.4299 | Train acc: 1.0000 | Val acc: 0.8421\n",
            "Epoch 47 | loss: 0.4010 | Train acc: 1.0000 | Val acc: 0.8427\n",
            "Epoch 48 | loss: 0.4041 | Train acc: 1.0000 | Val acc: 0.8415\n",
            "Epoch 49 | loss: 0.5014 | Train acc: 1.0000 | Val acc: 0.8407\n",
            "Epoch 50 | loss: 0.3989 | Train acc: 1.0000 | Val acc: 0.8398\n"
          ]
        }
      ]
    },
    {
      "cell_type": "code",
      "source": [
        "model_without_bn = InceptionNet(bn_flag = False).to(device)\n",
        "trained_model2 , train_accuracy2 , test_accuracy2 = fit(50, model_without_bn , trainloader , testloader)"
      ],
      "metadata": {
        "colab": {
          "base_uri": "https://localhost:8080/"
        },
        "id": "022p-yELWLQE",
        "outputId": "4ba5489d-a1f9-470b-c814-6e2979f903ae"
      },
      "execution_count": 9,
      "outputs": [
        {
          "output_type": "stream",
          "name": "stdout",
          "text": [
            "Epoch 1 | loss: 3599.6531 | Train acc: 0.1000 | Val acc: 0.1000\n",
            "Epoch 2 | loss: 3599.7663 | Train acc: 0.1000 | Val acc: 0.1000\n",
            "Epoch 3 | loss: 3599.5018 | Train acc: 0.1000 | Val acc: 0.1000\n",
            "Epoch 4 | loss: 3599.3887 | Train acc: 0.1000 | Val acc: 0.1000\n",
            "Epoch 5 | loss: 3599.2592 | Train acc: 0.1000 | Val acc: 0.1000\n",
            "Epoch 6 | loss: 3599.0424 | Train acc: 0.1000 | Val acc: 0.1000\n",
            "Epoch 7 | loss: 3598.6468 | Train acc: 0.1000 | Val acc: 0.1000\n",
            "Epoch 8 | loss: 3580.2748 | Train acc: 0.1516 | Val acc: 0.1526\n",
            "Epoch 9 | loss: 3077.1961 | Train acc: 0.2850 | Val acc: 0.2835\n",
            "Epoch 10 | loss: 2801.2404 | Train acc: 0.3253 | Val acc: 0.3226\n",
            "Epoch 11 | loss: 2515.2903 | Train acc: 0.4396 | Val acc: 0.4300\n",
            "Epoch 12 | loss: 2309.1258 | Train acc: 0.4620 | Val acc: 0.4556\n",
            "Epoch 13 | loss: 2171.5054 | Train acc: 0.4910 | Val acc: 0.4833\n",
            "Epoch 14 | loss: 2042.3966 | Train acc: 0.5421 | Val acc: 0.5286\n",
            "Epoch 15 | loss: 1936.8279 | Train acc: 0.5853 | Val acc: 0.5690\n",
            "Epoch 16 | loss: 1829.5224 | Train acc: 0.5976 | Val acc: 0.5813\n",
            "Epoch 17 | loss: 1733.3671 | Train acc: 0.6191 | Val acc: 0.6004\n",
            "Epoch 18 | loss: 1657.9983 | Train acc: 0.6272 | Val acc: 0.6099\n",
            "Epoch 19 | loss: 1583.2056 | Train acc: 0.6564 | Val acc: 0.6289\n",
            "Epoch 20 | loss: 1521.4330 | Train acc: 0.6582 | Val acc: 0.6337\n",
            "Epoch 21 | loss: 1441.2304 | Train acc: 0.6881 | Val acc: 0.6554\n",
            "Epoch 22 | loss: 1363.8464 | Train acc: 0.7023 | Val acc: 0.6676\n",
            "Epoch 23 | loss: 1290.7733 | Train acc: 0.7185 | Val acc: 0.6789\n",
            "Epoch 24 | loss: 1228.9418 | Train acc: 0.7191 | Val acc: 0.6770\n",
            "Epoch 25 | loss: 1157.9688 | Train acc: 0.7648 | Val acc: 0.7111\n",
            "Epoch 26 | loss: 1108.0509 | Train acc: 0.7664 | Val acc: 0.7055\n",
            "Epoch 27 | loss: 1047.8701 | Train acc: 0.7906 | Val acc: 0.7249\n",
            "Epoch 28 | loss: 988.3910 | Train acc: 0.7566 | Val acc: 0.6900\n",
            "Epoch 29 | loss: 936.4566 | Train acc: 0.8126 | Val acc: 0.7269\n",
            "Epoch 30 | loss: 884.6327 | Train acc: 0.8115 | Val acc: 0.7248\n",
            "Epoch 31 | loss: 833.8045 | Train acc: 0.8286 | Val acc: 0.7319\n",
            "Epoch 32 | loss: 774.1001 | Train acc: 0.8603 | Val acc: 0.7400\n",
            "Epoch 33 | loss: 713.7695 | Train acc: 0.8675 | Val acc: 0.7334\n",
            "Epoch 34 | loss: 659.2471 | Train acc: 0.8890 | Val acc: 0.7409\n",
            "Epoch 35 | loss: 611.4848 | Train acc: 0.8867 | Val acc: 0.7387\n",
            "Epoch 36 | loss: 555.1912 | Train acc: 0.9064 | Val acc: 0.7441\n",
            "Epoch 37 | loss: 507.6829 | Train acc: 0.9135 | Val acc: 0.7342\n",
            "Epoch 38 | loss: 454.7443 | Train acc: 0.9253 | Val acc: 0.7277\n",
            "Epoch 39 | loss: 403.1545 | Train acc: 0.9363 | Val acc: 0.7337\n",
            "Epoch 40 | loss: 360.9638 | Train acc: 0.9403 | Val acc: 0.7324\n",
            "Epoch 41 | loss: 323.3889 | Train acc: 0.9436 | Val acc: 0.7292\n",
            "Epoch 42 | loss: 282.2260 | Train acc: 0.9560 | Val acc: 0.7267\n",
            "Epoch 43 | loss: 255.1811 | Train acc: 0.9453 | Val acc: 0.7268\n",
            "Epoch 44 | loss: 226.6098 | Train acc: 0.9506 | Val acc: 0.7271\n",
            "Epoch 45 | loss: 198.9893 | Train acc: 0.9588 | Val acc: 0.7250\n",
            "Epoch 46 | loss: 180.0105 | Train acc: 0.9729 | Val acc: 0.7360\n",
            "Epoch 47 | loss: 157.8855 | Train acc: 0.9691 | Val acc: 0.7236\n",
            "Epoch 48 | loss: 147.2397 | Train acc: 0.9786 | Val acc: 0.7364\n",
            "Epoch 49 | loss: 138.1550 | Train acc: 0.9759 | Val acc: 0.7283\n",
            "Epoch 50 | loss: 120.9443 | Train acc: 0.9739 | Val acc: 0.7320\n"
          ]
        }
      ]
    },
    {
      "cell_type": "code",
      "source": [
        "plt.plot(list(train_accuracy1),label='Train')\n",
        "plt.plot(list(test_accuracy1),label='Test')\n",
        "plt.plot(list(train_accuracy2),label='Train, w/o BN')\n",
        "plt.plot(list(test_accuracy2),label='Test, w/o BN')\n",
        "plt.xlabel('Training Steps')\n",
        "plt.ylabel('Accuracy')\n",
        "plt.title('Inception Small on CIFAR-10 ')\n",
        "plt.legend()\n",
        "plt.show()"
      ],
      "metadata": {
        "colab": {
          "base_uri": "https://localhost:8080/",
          "height": 472
        },
        "id": "1ELZ7CVCWQSO",
        "outputId": "67008e1a-7bbb-4147-8e6c-9f1430b2111c"
      },
      "execution_count": 10,
      "outputs": [
        {
          "output_type": "display_data",
          "data": {
            "text/plain": [
              "<Figure size 640x480 with 1 Axes>"
            ],
            "image/png": "[encoded data removed]"
          },
          "metadata": {}
        }
      ]
    }
  ]
}